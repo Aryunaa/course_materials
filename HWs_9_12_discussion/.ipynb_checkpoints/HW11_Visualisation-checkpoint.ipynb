{
 "cells": [
  {
   "cell_type": "markdown",
   "id": "2c93b4c0-bc13-43a2-b1f1-8d7e58668428",
   "metadata": {
    "nbgrader": {
     "grade": false,
     "grade_id": "cell-cbd47f11274d3d92",
     "locked": true,
     "schema_version": 3,
     "solution": false,
     "task": false
    },
    "tags": []
   },
   "source": [
    "# <center>  Python for biologists\n",
    "    \n",
    "## Homework 11, Visualisation\n",
    "\n",
    "\n",
    "\n",
    "## Правила\n",
    "\n",
    "- **Не создавайте доп. веток в репозитории, не копируйте ноутбук.**\n",
    "- Пишите код только там, где это от вас требуется (`# YOUR CODE HERE`)\n",
    "- Не переименовывайте переменные, если они уже созданы. Происходят автопроверки.\n",
    "- Перед отправкой проверьте что ваш ноутбук работает (юпитер-ноутбук). Нажмите на панели сверху `Kernel` -> `Restart Kernel and Run All Cells...`. Проверье что нет ошибок.\n",
    "    \n",
    "\n",
    "#### Погнали!\n",
    "\n",
    "---\n"
   ]
  },
  {
   "cell_type": "code",
   "execution_count": 2,
   "id": "a1838cb9-6a11-4e60-9aab-5fbd10a56eae",
   "metadata": {
    "tags": []
   },
   "outputs": [],
   "source": [
    "import numpy as np\n",
    "import pandas as pd\n",
    "import matplotlib.pyplot as plt\n",
    "import seaborn as sns\n",
    "\n",
    "# здесь любые импорты которые вам еще понадобятся (только здесь)"
   ]
  },
  {
   "cell_type": "markdown",
   "id": "6334daa0-1435-432d-ad14-e3fe9e193d4a",
   "metadata": {
    "nbgrader": {
     "grade": false,
     "grade_id": "cell-ad50fc51ed36cb1d",
     "locked": true,
     "schema_version": 3,
     "solution": false,
     "task": false
    },
    "tags": []
   },
   "source": [
    "# Построение графиков по биоинформатическим данным\n",
    "\n",
    "## Heatmap\n",
    "\n",
    "- Данные: `DE_data_1.tsv`\n",
    "\n",
    "<img src=\"heatmap.png\" align=\"center\" width=\"500\" >"
   ]
  },
  {
   "cell_type": "code",
   "execution_count": 10,
   "id": "0e4cb877-9c47-42e2-aaa9-54d87e950d15",
   "metadata": {
    "nbgrader": {
     "grade": false,
     "grade_id": "cell-8cf4c1fbd2710ce6",
     "locked": true,
     "schema_version": 3,
     "solution": false,
     "task": false
    },
    "tags": []
   },
   "outputs": [
    {
     "data": {
      "text/html": [
       "<div>\n",
       "<style scoped>\n",
       "    .dataframe tbody tr th:only-of-type {\n",
       "        vertical-align: middle;\n",
       "    }\n",
       "\n",
       "    .dataframe tbody tr th {\n",
       "        vertical-align: top;\n",
       "    }\n",
       "\n",
       "    .dataframe thead th {\n",
       "        text-align: right;\n",
       "    }\n",
       "</style>\n",
       "<table border=\"1\" class=\"dataframe\">\n",
       "  <thead>\n",
       "    <tr style=\"text-align: right;\">\n",
       "      <th></th>\n",
       "      <th>Sample</th>\n",
       "      <th>Replicate</th>\n",
       "    </tr>\n",
       "  </thead>\n",
       "  <tbody>\n",
       "    <tr>\n",
       "      <th>ENCFF240NOH</th>\n",
       "      <td>TAP pre-treated</td>\n",
       "      <td>1</td>\n",
       "    </tr>\n",
       "    <tr>\n",
       "      <th>ENCFF245SJH</th>\n",
       "      <td>TAP pre-treated</td>\n",
       "      <td>2</td>\n",
       "    </tr>\n",
       "    <tr>\n",
       "      <th>ENCFF321FEM</th>\n",
       "      <td>No treat</td>\n",
       "      <td>1</td>\n",
       "    </tr>\n",
       "    <tr>\n",
       "      <th>ENCFF368OTJ</th>\n",
       "      <td>No treat</td>\n",
       "      <td>2</td>\n",
       "    </tr>\n",
       "    <tr>\n",
       "      <th>ENCFF711LJB</th>\n",
       "      <td>AP-TAP pre-treated</td>\n",
       "      <td>1</td>\n",
       "    </tr>\n",
       "    <tr>\n",
       "      <th>ENCFF826APU</th>\n",
       "      <td>AP-TAP pre-treated</td>\n",
       "      <td>2</td>\n",
       "    </tr>\n",
       "  </tbody>\n",
       "</table>\n",
       "</div>"
      ],
      "text/plain": [
       "                         Sample Replicate\n",
       "ENCFF240NOH     TAP pre-treated         1\n",
       "ENCFF245SJH     TAP pre-treated         2\n",
       "ENCFF321FEM            No treat         1\n",
       "ENCFF368OTJ            No treat         2\n",
       "ENCFF711LJB  AP-TAP pre-treated         1\n",
       "ENCFF826APU  AP-TAP pre-treated         2"
      ]
     },
     "execution_count": 10,
     "metadata": {},
     "output_type": "execute_result"
    }
   ],
   "source": [
    "# Это мета-информация об образцах\n",
    "meta = pd.DataFrame({'ENCFF240NOH': ('TAP pre-treated', 1), \n",
    "                     'ENCFF245SJH': ('TAP pre-treated', 2), \n",
    "                     'ENCFF321FEM': ('No treat', 1), \n",
    "                     'ENCFF368OTJ': ('No treat', 2), \n",
    "                     'ENCFF711LJB': ('AP-TAP pre-treated', 1), \n",
    "                     'ENCFF826APU': ('AP-TAP pre-treated', 2)}, index=['Sample', 'Replicate']).T\n",
    "meta"
   ]
  },
  {
   "cell_type": "code",
   "execution_count": null,
   "id": "40f5a269-5d39-4ec4-8f00-c0016f58331a",
   "metadata": {},
   "outputs": [],
   "source": [
    "# YOUR CODE HERE\n",
    "# можете создавать доп. ячейки, но, пожалуйста, перед отправкой соберите всё в одну"
   ]
  },
  {
   "cell_type": "markdown",
   "id": "2ad9efcb-8856-420f-a2fb-2ae6e4a417bd",
   "metadata": {
    "nbgrader": {
     "grade": false,
     "grade_id": "cell-6a6a55e15a997fc5",
     "locked": true,
     "schema_version": 3,
     "solution": false,
     "task": false
    },
    "tags": []
   },
   "source": [
    "## Volcano plot\n",
    "\n",
    "- Данные: `DE_data_2.gz`\n",
    "\n",
    "<img src=\"volcano_plot.png\" align=\"center\" width=\"500\" >"
   ]
  },
  {
   "cell_type": "code",
   "execution_count": null,
   "id": "7dfa848b-e07e-498c-a9de-ab4a25a35082",
   "metadata": {},
   "outputs": [],
   "source": [
    "# YOUR CODE HERE\n",
    "# можете создавать доп. ячейки, но, пожалуйста, перед отправкой соберите всё в одну"
   ]
  },
  {
   "cell_type": "markdown",
   "id": "86eeff46-1645-4fc0-8e3a-0708d2d54da0",
   "metadata": {
    "nbgrader": {
     "grade": false,
     "grade_id": "cell-b3851eab067f0234",
     "locked": true,
     "schema_version": 3,
     "solution": false,
     "task": false
    },
    "tags": []
   },
   "source": [
    "## Сохранение графиков"
   ]
  },
  {
   "cell_type": "code",
   "execution_count": null,
   "id": "7bfe3318-535d-4a1e-9202-c7826abcaf95",
   "metadata": {},
   "outputs": [],
   "source": [
    "# YOUR CODE HERE\n",
    "# можете создавать доп. ячейки, но, пожалуйста, перед отправкой соберите всё в одну"
   ]
  },
  {
   "cell_type": "markdown",
   "id": "ce3e6915-08b8-44c9-92dc-f5494eba1642",
   "metadata": {
    "nbgrader": {
     "grade": false,
     "grade_id": "cell-7410aee8cbe80827",
     "locked": true,
     "schema_version": 3,
     "solution": false,
     "task": false
    },
    "tags": []
   },
   "source": [
    "---\n",
    "# EDA\n",
    "\n",
    "Покажите тут, что у вас получилось!\n",
    "\n",
    "> По идее, вам нужно только запустить ячейку и всё. Но можете изменить датасет если хотите."
   ]
  },
  {
   "cell_type": "code",
   "execution_count": null,
   "id": "13d23eaa-9628-4f39-8ec3-3550fd08609b",
   "metadata": {},
   "outputs": [],
   "source": [
    "# Можете вставить любой репрезентативный дата-фрейм на ваше усмотрение :)\n",
    "data_dir = 'https://raw.githubusercontent.com/Python-BI-2023/course_materials/main/data/'\n",
    "df = pd.read_csv(data_dir + 'titanic.csv')"
   ]
  },
  {
   "cell_type": "code",
   "execution_count": null,
   "id": "0596f0a9-cf71-4926-a0df-0746d3d12ba4",
   "metadata": {
    "nbgrader": {
     "grade": false,
     "grade_id": "cell-d105368163e55153",
     "locked": true,
     "schema_version": 3,
     "solution": false,
     "task": false
    },
    "tags": []
   },
   "outputs": [],
   "source": [
    "from my_awesome_eda import run_eda\n",
    "\n",
    "run_eda(df)"
   ]
  }
 ],
 "metadata": {
  "kernelspec": {
   "display_name": "python_bi",
   "language": "python",
   "name": "python_bi"
  },
  "language_info": {
   "codemirror_mode": {
    "name": "ipython",
    "version": 3
   },
   "file_extension": ".py",
   "mimetype": "text/x-python",
   "name": "python",
   "nbconvert_exporter": "python",
   "pygments_lexer": "ipython3",
   "version": "3.11.6"
  }
 },
 "nbformat": 4,
 "nbformat_minor": 5
}
