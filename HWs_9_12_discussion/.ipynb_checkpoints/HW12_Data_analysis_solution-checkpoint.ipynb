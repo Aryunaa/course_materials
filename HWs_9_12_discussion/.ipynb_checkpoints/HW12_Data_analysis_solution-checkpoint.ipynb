{
 "cells": [
  {
   "cell_type": "markdown",
   "id": "2c93b4c0-bc13-43a2-b1f1-8d7e58668428",
   "metadata": {
    "nbgrader": {
     "grade": false,
     "grade_id": "cell-cbd47f11274d3d92",
     "locked": true,
     "schema_version": 3,
     "solution": false,
     "task": false
    },
    "tags": []
   },
   "source": [
    "# <center>  Python for biologists\n",
    "    \n",
    "## Homework 12, Data analysis\n",
    "\n",
    "\n",
    "\n",
    "### Правила\n",
    "\n",
    "- Не создавайте доп. веток в репозитории, не копируйте ноутбук.\n",
    "- Пишите код только там, где это от вас требуется (`# YOUR CODE HERE`)\n",
    "- Используйте разобранный нами функционал, решения через циклы, `Counter` и т.п. засчитываться не будут.\n",
    "- Перед отправкой проверьте что ваш ноутбук работает (юпитер-ноутбук). Нажмите на панели сверху `Kernel` -> `Restart Kernel and Run All Cells...`. Проверье что нет ошибок.\n",
    "    \n",
    "\n",
    "#### Погнали!\n",
    "\n",
    "---\n"
   ]
  },
  {
   "cell_type": "code",
   "execution_count": 7,
   "id": "a1838cb9-6a11-4e60-9aab-5fbd10a56eae",
   "metadata": {
    "tags": []
   },
   "outputs": [],
   "source": [
    "import numpy as np\n",
    "import pandas as pd\n",
    "import matplotlib.pyplot as plt\n",
    "import seaborn as sns\n",
    "\n",
    "from IPython.display import display\n",
    "\n",
    "# здесь любые импорты которые вам еще понадобятся (только здесь)"
   ]
  },
  {
   "cell_type": "markdown",
   "id": "25f6ed01-7325-4e7b-a7c0-3ced64223778",
   "metadata": {
    "nbgrader": {
     "grade": false,
     "grade_id": "cell-3c2e2ca861e7cec4",
     "locked": true,
     "schema_version": 3,
     "solution": false,
     "task": false
    },
    "tags": []
   },
   "source": [
    "# Продвинутая работа с одним дата-фреймом  </br> на примере биомедицинских данных\n",
    "\n",
    "Мы будем работать с фармакокинетическим Варифариновым датасетом `warfarin.csv` (конкретный пример взят [отсюда](https://insightrx.github.io/PKPDsim/reference/pkdata.html?q=pkdata), но почитать можно [тут](https://dataset.lixoft.com/data-set-examples/warfarin-data-set/) и [тут](https://ascpt.onlinelibrary.wiley.com/doi/10.1038/clpt.2010.37/)). \n",
    "\n",
    "Датасет содержит следующие колонки:\n",
    "- `ID` - Идентификатор пациента\n",
    "- `Time` - Время внесения записи\n",
    "- `WT` - Вес пациента\n",
    "- `AGE` - Возраст пациента\n",
    "- `SEX` - Пол пациента\n",
    "- `CRCL` - Клиренс креатинина пациента (показатель работоспособности почек)\n",
    "- `EVID` - Event ID - флаг который обозначает тип события: 1 - администрирование (введение) дозы варфарина, 0 - запись концентрации варфарина в крови\n",
    "- `AMT` - Amount, Доза варфарина которая была дана пациенту\n",
    "- `DV` - Зависимая переменная в анализе, концентрация варфарина в крови\n",
    "\n",
    "Соотвественно про данные история такая, что не может быть одновременной записи DV и AMT. Мы либо даем дозу, либо измеряем концентрацию - не одновременно. Это и обозначает флаг EVID.  Поэтому если в DV стоит 0 - это не значит что концентрация 0, скорее всего эта запись отмечена флагом EVID 1, то мы и не знаем концентрацию, мы её не измеряли. \n",
    "\n",
    "\n"
   ]
  },
  {
   "cell_type": "code",
   "execution_count": 9,
   "id": "09e1ed37-79fe-4017-b4c2-0c9518c78bc2",
   "metadata": {
    "tags": []
   },
   "outputs": [],
   "source": [
    "warfarin = pd.read_csv('data/warfarin.csv', sep='\\t')"
   ]
  },
  {
   "cell_type": "markdown",
   "id": "bf1bcd5d-3b31-42bd-9931-71811dcfbb87",
   "metadata": {
    "nbgrader": {
     "grade": false,
     "grade_id": "cell-3566710e2b42d6c6",
     "locked": true,
     "schema_version": 3,
     "solution": false,
     "task": false
    },
    "tags": []
   },
   "source": [
    "### Задание 1 📈 \n",
    "\n",
    "Сколько в среднем имеется записей на пациента? \n",
    "\n",
    "\n",
    "*(0.5 балла)*"
   ]
  },
  {
   "cell_type": "code",
   "execution_count": 10,
   "id": "30242f14-3e0b-4217-9f51-7283e235f059",
   "metadata": {
    "nbgrader": {
     "grade": false,
     "grade_id": "cell-6f5fe9c04f6aa64c",
     "locked": false,
     "schema_version": 3,
     "solution": true,
     "task": false
    },
    "tags": []
   },
   "outputs": [],
   "source": [
    "result = ...\n",
    "### BEGIN SOLUTION\n",
    "result = warfarin.groupby('ID').size().mean()\n",
    "### END SOLUTION"
   ]
  },
  {
   "cell_type": "code",
   "execution_count": 11,
   "id": "b4d00fa6-8b4b-4576-a5d0-ddd2cc7685a1",
   "metadata": {
    "nbgrader": {
     "grade": true,
     "grade_id": "cell-c4f593da078a6398",
     "locked": true,
     "points": 5,
     "schema_version": 3,
     "solution": false,
     "task": false
    },
    "tags": []
   },
   "outputs": [],
   "source": [
    "assert result == 13.0"
   ]
  },
  {
   "cell_type": "markdown",
   "id": "98d06848-fb5d-4996-956c-609445f41b48",
   "metadata": {
    "nbgrader": {
     "grade": false,
     "grade_id": "cell-8bbbc2ef32020fc1",
     "locked": true,
     "schema_version": 3,
     "solution": false,
     "task": false
    },
    "tags": []
   },
   "source": [
    "### Задание 2 📈 \n",
    "\n",
    "Выведите средний возраст всех пациентов. \n",
    "\n",
    "\n",
    "*(0.5 балла)*"
   ]
  },
  {
   "cell_type": "code",
   "execution_count": 12,
   "id": "058389ba-cc67-4ad9-98be-3f70e356afe5",
   "metadata": {
    "nbgrader": {
     "grade": false,
     "grade_id": "cell-ce0eb3dfad2d51e0",
     "locked": false,
     "schema_version": 3,
     "solution": true,
     "task": false
    },
    "tags": []
   },
   "outputs": [],
   "source": [
    "result = ...\n",
    "### BEGIN SOLUTION\n",
    "result = warfarin.AGE.mean()\n",
    "### END SOLUTION"
   ]
  },
  {
   "cell_type": "code",
   "execution_count": 13,
   "id": "675ba0f4-fa59-44e6-a04c-6cb1b681cc41",
   "metadata": {
    "nbgrader": {
     "grade": true,
     "grade_id": "cell-eb37d95aff8119f5",
     "locked": true,
     "points": 5,
     "schema_version": 3,
     "solution": false,
     "task": false
    },
    "tags": []
   },
   "outputs": [],
   "source": [
    "assert np.isclose(result, 53.0883, atol=1e-3)"
   ]
  },
  {
   "cell_type": "markdown",
   "id": "5c9a8fe5-57c5-40f2-afa9-54186fb8d2ce",
   "metadata": {
    "nbgrader": {
     "grade": false,
     "grade_id": "cell-919af5ebb07ef645",
     "locked": true,
     "schema_version": 3,
     "solution": false,
     "task": false
    },
    "tags": []
   },
   "source": [
    "### Задание 3 📈 \n",
    "\n",
    "Выведите в виде списка имена колонок, где у каждого пациента значения не меняются\n",
    "\n",
    "\n",
    "*(0.5 балла)*"
   ]
  },
  {
   "cell_type": "code",
   "execution_count": 14,
   "id": "c99d02fd-ff19-456a-a064-a3f85f4865cd",
   "metadata": {
    "nbgrader": {
     "grade": false,
     "grade_id": "cell-e0569e8231c29692",
     "locked": false,
     "schema_version": 3,
     "solution": true,
     "task": false
    },
    "tags": []
   },
   "outputs": [],
   "source": [
    "result = ...\n",
    "### BEGIN SOLUTION\n",
    "result = warfarin.groupby('ID').nunique().eq(1).all(axis=0)\n",
    "result = result[result].index.to_list()\n",
    "### END SOLUTION"
   ]
  },
  {
   "cell_type": "code",
   "execution_count": 15,
   "id": "4214f96c-4ea8-44f2-b457-e8bcca1530c2",
   "metadata": {
    "nbgrader": {
     "grade": true,
     "grade_id": "cell-101db6ab751404e7",
     "locked": true,
     "points": 5,
     "schema_version": 3,
     "solution": false,
     "task": false
    },
    "tags": []
   },
   "outputs": [],
   "source": [
    "assert result == ['WT', 'CRCL', 'AGE', 'SEX']"
   ]
  },
  {
   "cell_type": "markdown",
   "id": "bfe0ab00-c674-4808-bc08-cb79ef4ca218",
   "metadata": {
    "nbgrader": {
     "grade": false,
     "grade_id": "cell-798c5f0e86a4836e",
     "locked": true,
     "schema_version": 3,
     "solution": false,
     "task": false
    },
    "tags": []
   },
   "source": [
    "### Задание 4 📈 \n",
    "\n",
    "Постройте [Spaghetti plot](https://en.wikipedia.org/wiki/Spaghetti_plot) DV vs TIME по каждому ID, отметьте вертикальными линиями моменты времени когда вводилась доза. Референсный график приеден в файле `spaghetti_plot.png`.  Обратите внимание, что на референсе `DV` не \"проваливается\" до 0. Почему?\n",
    "\n",
    "Легенду по цветами выводить не надо :)\n",
    "\n",
    "*(1.5 балла)*"
   ]
  },
  {
   "cell_type": "code",
   "execution_count": 16,
   "id": "c242ba30-f855-4ce2-b8a5-755745bf69dc",
   "metadata": {
    "nbgrader": {
     "grade": true,
     "grade_id": "cell-3b61cbd9c6903d26",
     "locked": false,
     "points": 15,
     "schema_version": 3,
     "solution": true,
     "task": false
    },
    "tags": []
   },
   "outputs": [
    {
     "data": {
      "image/png": "[encoded data removed]",
      "text/plain": [
       "<Figure size 700x400 with 1 Axes>"
      ]
     },
     "metadata": {},
     "output_type": "display_data"
    }
   ],
   "source": [
    "# можете создавать доп. ячейки, но, пожалуйста, перед отправкой соберите всё в эту\n",
    "\n",
    "### BEGIN SOLUTION\n",
    "fig = plt.figure(figsize=(7, 4))\n",
    "sns.lineplot(data=warfarin.query('DV > 0'), x='TIME', y='DV', hue='ID', legend=None)\n",
    "for time in warfarin.query('DV == 0').TIME.unique():\n",
    "    plt.axvline(time, color='k', linestyle='--', linewidth=1)\n",
    "plt.title('Sphagetti Plot DV vs. TIME by ID');\n",
    "### END SOLUTION"
   ]
  },
  {
   "cell_type": "markdown",
   "id": "88cc425c-c5d4-4145-be9a-1651cc52bd89",
   "metadata": {
    "nbgrader": {
     "grade": false,
     "grade_id": "cell-a407499f199c8aea",
     "locked": true,
     "schema_version": 3,
     "solution": false,
     "task": false
    },
    "tags": []
   },
   "source": [
    "> Ну а далее ученые-фармакометрики строят по этим графикам математические модели (нелинейные) чтобы уметь описывать фармакокинетический профиль концентрации лекарства в крови, учитывать влияние пола / веса / генотипа / ... человека, и в конце-концов, предсказывать ту самую оптимальную дозу для конкретного пациента. Таргетная терапия! Но это уже совсем другая история."
   ]
  },
  {
   "cell_type": "markdown",
   "id": "9cf08558-6680-4e1d-bb5e-57a8b62e26ae",
   "metadata": {
    "nbgrader": {
     "grade": false,
     "grade_id": "cell-1e17f64fe7d7c4d1",
     "locked": true,
     "schema_version": 3,
     "solution": false,
     "task": false
    },
    "tags": []
   },
   "source": [
    "# Продвинутая работа с несколькими дата-фреймами  </br> на примере биоинформатических данных\n",
    "\n",
    "Мы будем работать со следующими омиксными данными:\n",
    "- RNA-seq малых РНК из нейронов здорового человека и пациента с некоторым нейродегенеративным заболеванием\n",
    "- ChIP-seq'и за белки 'CTCF' и 'SMC3' (они в том числе отвечают за структуру хроматина и экспрессию генов)\n",
    "\n"
   ]
  },
  {
   "cell_type": "markdown",
   "id": "629e5584-e587-4149-b57f-ee515f9d35f4",
   "metadata": {
    "nbgrader": {
     "grade": false,
     "grade_id": "cell-88c5c3b73a941844",
     "locked": true,
     "schema_version": 3,
     "solution": false,
     "task": false
    },
    "tags": []
   },
   "source": [
    "### Задание 6 📈 Подготовка данных\n",
    "\n",
    "\n",
    "##### 1) Прочитайте данные в 3 датафрема `ctcf`, `smc3` и `rnaseq`. Для этого вам понадобится:\n",
    "- Понять названия колонок (про форматы данных можно почитать [тут](https://genome.ucsc.edu/FAQ/FAQformat.html))\n",
    "- Понять как прочитать BigWig данные (они бинарные). Существует библиотека `pyBigWig`, но она хранит датасеты в очень странном фармате, в данной домашке ЗАПРЕЩАЕТСЯ её использовать. Сконвертируйте в коммандной строке BigWig в bedGraph и читайте bedGraph в pandas-dataframe.\n",
    "- Прочитав два дата-фрейма для РНК-сека вам нужно объединить их в один дата-фрейм добавив колонку обозначающую тип образца\n",
    "\n",
    "\n",
    "\n",
    "##### 2) Создайте датафрейм с аннотацией генома человека версии GRCh38.p13. Для этого вам понадобится:\n",
    "- Найти эту аннотацию. Я советую формат `gff3`.\n",
    "- Файл будет очень большой, советую предобработать его в командной строке:\n",
    "    - Отобрать только нужные колонки\n",
    "    - Отобрать только записи соответвующие генам\n",
    "    - (Если компьютер слабый) отобрать только записи соответствующие 15 хромосоме.\n",
    "- Прочитать это дело в pandas-data frame\n",
    "- Имя гена находится в последней колонке gff3, где много полей аггрегированы через `;`. Вам нужно:\n",
    "    - Найти как называется нужное поле, где лежит имя гена.\n",
    "    - Достать имя гена в отдельную колонку (например `gene` или `gene_name`). </br>\n",
    "    Достать имя гена может быть не очень тривиально. Можно сделать это в баше, можно сделать это в питоне. Тут на ваше усмотрение. В питоне по-сути у вас есть колонка с кучей информации в виде строки откуда вам нужно что-то достать. Ровно для этого мы и разобрали [ацессор `str`](https://pandas.pydata.org/pandas-docs/stable/user_guide/text.html)! Могу предложить 2 пути:\n",
    "        - (Попродвинутее)  Используйте `str.replace` с параметром `regex=True`. Не зря же мы учили регексы!\n",
    "        - (Попроще) Используйте `str.split` чтобы отрезать ненужное и вырезать нужное\n",
    "        \n",
    "        \n",
    "##### 3) Во всех датафреймах оставьте только нужные колонки\n",
    "    Это колонки с хромосомой, координатами начала и конца, цепью +/-, значением сигнала (для ChIP-seq и RNA-seq) и именем гена (для аннотации)\n",
    "\n",
    "\n",
    "> Да, обрабатывать готовые данные в питоне легко, но перед любым анализом всегда есть мучительный процесс поиска и подготовки.  Ведь реальный анализ всегда начинается с этого. Теперь вы будете во всеоружии!:)\n",
    "\n",
    "*(1.5 балла)*"
   ]
  },
  {
   "cell_type": "code",
   "execution_count": 10,
   "id": "81e253a0-90a5-4b82-8283-6c8bbc084a71",
   "metadata": {
    "nbgrader": {
     "grade": true,
     "grade_id": "cell-685ff84d6e4843ab",
     "locked": false,
     "points": 15,
     "schema_version": 3,
     "solution": true,
     "task": false
    },
    "tags": []
   },
   "outputs": [],
   "source": [
    "# можете создавать доп. ячейки, но, пожалуйста, перед отправкой соберите всё в эту\n",
    "ctcf = ...\n",
    "smc3 = ...\n",
    "rnaseq = ...\n",
    "genes = ...\n",
    "\n",
    "### BEGIN SOLUTION\n",
    "narrow_peak_colnames = ('chr', 'start', 'stop', 'name', 'score', 'strand', 'signalValue', 'pValue', 'qValue', 'peak')\n",
    "bedgraph_colnames = ('chr', 'start', 'stop', 'signalValue')\n",
    "gff_colnames = ('chr', 'DB', 'type', 'start', 'stop', '_', 'strand', '__', 'data')\n",
    "\n",
    "ctcf = pd.read_csv('data/CTCF_neurons.bigNarrowPeak', sep='\\t', header=None, names=narrow_peak_colnames)\n",
    "smc3 = pd.read_csv('data/SMC3_neurons.bigNarrowPeak', sep='\\t', header=None, names=narrow_peak_colnames)\n",
    "\n",
    "rnaseq_hc = pd.read_csv('data/out1.bg', sep='\\t', header=None, names=bedgraph_colnames)\n",
    "rnaseq_de =  pd.read_csv('data/out2.bg', sep='\\t', header=None, names=bedgraph_colnames)\n",
    "rnaseq_hc['Sample'] = 'Health'\n",
    "rnaseq_de['Sample'] = 'Desease'\n",
    "rnaseq = pd.concat([rnaseq_hc, rnaseq_de])\n",
    "\n",
    "genes = pd.read_csv('data/gencode.v38.annotation.gff3', sep='\\t', header=None, skiprows=7, names=gff_colnames)\n",
    "genes = genes.query('type==\"gene\"')\n",
    "genes['gene'] = genes.data.str.split('gene_name=').str[1].str.split(';').str[0]\n",
    "genes = genes[['chr',  'start', 'stop', 'strand', 'gene']]\n",
    "genes = genes.drop_duplicates()\n",
    "### END SOLUTION"
   ]
  },
  {
   "cell_type": "markdown",
   "id": "0a5884dd-fa55-47d2-8d5b-e62ec89572ee",
   "metadata": {
    "nbgrader": {
     "grade": false,
     "grade_id": "cell-8baffbee1cfaed29",
     "locked": true,
     "schema_version": 3,
     "solution": false,
     "task": false
    },
    "tags": []
   },
   "source": [
    "### Задание 7 📈 Аннотация\n",
    "\n",
    "1) Возьмите данные ChIP-seq и аннотацию. Для экономии ресурсов отберите только 15 хромосому.\n",
    "2) Смерджте дата-фреймы ChIP-seq так чтобы получить набор только пересекающихся пиков\n",
    "3) Обработайте смердженный датафрейм: \n",
    "    - Создайте колонки `start` и `stop` которые будут отмечать координаты объединения двух пиков (то есть самое левое начало и самый правый конец)\n",
    "    - Отберите топ 100 записей по суммарной интенсивности сигналов CTCF и SMC3 \n",
    "    - Отберите только нужные колонки: хромосома, `start` и `stop`, интенсивности сигналов\n",
    "    \n",
    "    </br>\n",
    "\n",
    "4) Добавьте аннотацию. \n",
    "    - Смерджьте датафрейм пиков с датафремом аннотации.\n",
    "    - Отберите только те пики, которые покрывают НАЧАЛО какого-то гена (т.к. регуляция экспрессии обычно происходит в начале гена, нам интересно посмотреть на началах каких генов сидят CTCF и SMC3\n",
    "    - Напечатайте этот датафрейм.\n",
    "\n",
    "    </br>\n",
    "\n",
    "5) Биоинформатика... </br>\n",
    "    А теперь, если бы это были ваши данные, вы бы пошли гуглить, что же за гены оказались потенциально под очень сильным влиянием одновременно и CTCF и SMC3. Но это уже совсем другая история.\n",
    "\n",
    "\n",
    "*(3 балла)*"
   ]
  },
  {
   "cell_type": "code",
   "execution_count": 11,
   "id": "55034dea-8710-405c-aa7b-460cef034e68",
   "metadata": {
    "nbgrader": {
     "grade": true,
     "grade_id": "cell-c23bca0f835b4cad",
     "locked": false,
     "points": 30,
     "schema_version": 3,
     "solution": true,
     "task": false
    },
    "tags": []
   },
   "outputs": [
    {
     "data": {
      "text/html": [
       "<div>\n",
       "<style scoped>\n",
       "    .dataframe tbody tr th:only-of-type {\n",
       "        vertical-align: middle;\n",
       "    }\n",
       "\n",
       "    .dataframe tbody tr th {\n",
       "        vertical-align: top;\n",
       "    }\n",
       "\n",
       "    .dataframe thead th {\n",
       "        text-align: right;\n",
       "    }\n",
       "</style>\n",
       "<table border=\"1\" class=\"dataframe\">\n",
       "  <thead>\n",
       "    <tr style=\"text-align: right;\">\n",
       "      <th></th>\n",
       "      <th>chr</th>\n",
       "      <th>start_x</th>\n",
       "      <th>stop_x</th>\n",
       "      <th>signalValue_x</th>\n",
       "      <th>signalValue_y</th>\n",
       "      <th>start_y</th>\n",
       "      <th>stop_y</th>\n",
       "      <th>strand</th>\n",
       "      <th>gene</th>\n",
       "    </tr>\n",
       "  </thead>\n",
       "  <tbody>\n",
       "    <tr>\n",
       "      <th>72545</th>\n",
       "      <td>chr15</td>\n",
       "      <td>74302671</td>\n",
       "      <td>74303431</td>\n",
       "      <td>1377.99189</td>\n",
       "      <td>955.70573</td>\n",
       "      <td>74303005.0</td>\n",
       "      <td>74304343.0</td>\n",
       "      <td>+</td>\n",
       "      <td>RP11-60L3.2</td>\n",
       "    </tr>\n",
       "    <tr>\n",
       "      <th>74590</th>\n",
       "      <td>chr15</td>\n",
       "      <td>66497545</td>\n",
       "      <td>66498259</td>\n",
       "      <td>690.94118</td>\n",
       "      <td>1635.02477</td>\n",
       "      <td>66498015.0</td>\n",
       "      <td>66524532.0</td>\n",
       "      <td>-</td>\n",
       "      <td>RPL4</td>\n",
       "    </tr>\n",
       "    <tr>\n",
       "      <th>89446</th>\n",
       "      <td>chr15</td>\n",
       "      <td>40217070</td>\n",
       "      <td>40217730</td>\n",
       "      <td>968.60385</td>\n",
       "      <td>1285.60747</td>\n",
       "      <td>40217428.0</td>\n",
       "      <td>40277487.0</td>\n",
       "      <td>+</td>\n",
       "      <td>PAK6</td>\n",
       "    </tr>\n",
       "    <tr>\n",
       "      <th>94224</th>\n",
       "      <td>chr15</td>\n",
       "      <td>50908237</td>\n",
       "      <td>50908959</td>\n",
       "      <td>622.79970</td>\n",
       "      <td>1621.22049</td>\n",
       "      <td>50908672.0</td>\n",
       "      <td>51005895.0</td>\n",
       "      <td>+</td>\n",
       "      <td>AP4E1</td>\n",
       "    </tr>\n",
       "    <tr>\n",
       "      <th>183419</th>\n",
       "      <td>chr15</td>\n",
       "      <td>66497545</td>\n",
       "      <td>66498259</td>\n",
       "      <td>149.33633</td>\n",
       "      <td>1635.02477</td>\n",
       "      <td>66498015.0</td>\n",
       "      <td>66524532.0</td>\n",
       "      <td>-</td>\n",
       "      <td>RPL4</td>\n",
       "    </tr>\n",
       "    <tr>\n",
       "      <th>198611</th>\n",
       "      <td>chr15</td>\n",
       "      <td>50908237</td>\n",
       "      <td>50908959</td>\n",
       "      <td>100.65644</td>\n",
       "      <td>1621.22049</td>\n",
       "      <td>50908672.0</td>\n",
       "      <td>51005895.0</td>\n",
       "      <td>+</td>\n",
       "      <td>AP4E1</td>\n",
       "    </tr>\n",
       "  </tbody>\n",
       "</table>\n",
       "</div>"
      ],
      "text/plain": [
       "          chr   start_x    stop_x  signalValue_x  signalValue_y     start_y  \\\n",
       "72545   chr15  74302671  74303431     1377.99189      955.70573  74303005.0   \n",
       "74590   chr15  66497545  66498259      690.94118     1635.02477  66498015.0   \n",
       "89446   chr15  40217070  40217730      968.60385     1285.60747  40217428.0   \n",
       "94224   chr15  50908237  50908959      622.79970     1621.22049  50908672.0   \n",
       "183419  chr15  66497545  66498259      149.33633     1635.02477  66498015.0   \n",
       "198611  chr15  50908237  50908959      100.65644     1621.22049  50908672.0   \n",
       "\n",
       "            stop_y strand         gene  \n",
       "72545   74304343.0      +  RP11-60L3.2  \n",
       "74590   66524532.0      -         RPL4  \n",
       "89446   40277487.0      +         PAK6  \n",
       "94224   51005895.0      +        AP4E1  \n",
       "183419  66524532.0      -         RPL4  \n",
       "198611  51005895.0      +        AP4E1  "
      ]
     },
     "execution_count": 11,
     "metadata": {},
     "output_type": "execute_result"
    }
   ],
   "source": [
    "# можете создавать доп. ячейки, но, пожалуйста, перед отправкой соберите всё в эту\n",
    "\n",
    "### BEGIN SOLUTION\n",
    "ctcf = ctcf.query('chr==\"chr15\"')\n",
    "smc3 = smc3.query('chr==\"chr15\"')\n",
    "\n",
    "merged = smc3.merge(ctcf, on='chr').query('(start_x <= start_y <= stop_x) or (start_x <= stop_y <= stop_x)')\n",
    "merged['start'] = merged[['start_x', 'stop_x', 'start_y', 'stop_y']].min(axis=1)\n",
    "merged['stop'] = merged[['start_x', 'stop_x', 'start_y', 'stop_y']].max(axis=1)\n",
    "merged = merged.loc[(merged.signalValue_x + merged.signalValue_y).nlargest(100).index, \n",
    "           ['chr',  'start', 'stop', 'signalValue_x', 'signalValue_y']]\n",
    "\n",
    "merged.merge(genes, on='chr', how='left').query('start_x <= start_y <= stop_x')\n",
    "### END SOLUTION"
   ]
  },
  {
   "cell_type": "markdown",
   "id": "9fdf9299-2c91-46a7-be84-3f94b5bc6ff4",
   "metadata": {
    "nbgrader": {
     "grade": false,
     "grade_id": "cell-598a78173f13cecd",
     "locked": true,
     "schema_version": 3,
     "solution": false,
     "task": false
    },
    "tags": []
   },
   "source": [
    "### Задание 8 📈 Статистическое сравнение данных\n",
    "\n",
    " Данные у вас хранятся в агрегированном виде (координаты сжаты до начал и концов интервалов). В связи с этим невозможно делать статистическое сравнение сигналов, так как, условно, какой-то сигнал задан на интервале в 100 п.н., а какой-то в 1000 п.н.. Поэтому данные придется немного предобработать. \n",
    "\n",
    "1) Возьмите данные RNA-seq. Для экономии ресурсов отберите только 15 хромосому.\n",
    "2) Переведите датафрейм `['chr', 'start', 'stop', 'signalValue']` в `['chr', 'pos', 'signalValue']`, то есть чтобы у вас каждая позиция была записана в явном виде. \n",
    "\n",
    "Было:\n",
    "```python\n",
    "start stop signal\n",
    "1     2    10\n",
    "4     6    100\n",
    "```\n",
    "Стало:\n",
    "```python\n",
    "pos signal\n",
    "1    10\n",
    "2    10\n",
    "4    100\n",
    "5    100\n",
    "6    100\n",
    "```\n",
    "\n",
    "Сделать можно разными путями. Я могу посоветовать например [такое](https://pandas.pydata.org/pandas-docs/stable/reference/api/pandas.DataFrame.explode.html). Для этого нужно иметь одну колонку где все нужные координаты из интервала будут записаны в виде списка (все, а не только начало и конец). Я думаю, что проще всего это будет сделать с помощью `apply` (мы же умеем применять его к строкам) и старого доброго `range` :)\n",
    "\n",
    "\n",
    "3) Статистически интенсивности сигналов РНК-сека на хромосоме 15 между двумя группами образцов. Следите чтобы ваши выводы были корректными.\n",
    "\n",
    "#### Самый главный график\n",
    "\n",
    "4) Нарисуйте 2 боксполта интенсивностей сигналов РНК-сека (в log-шкале по y) и проаннотируйте над ними p-value. Если вызывает трудности, начните [отсюда](https://stackoverflow.com/questions/36578458/how-does-one-insert-statistical-annotations-stars-or-p-values). Можете найти референс в файле `boxplot.png`\n",
    "\n",
    "\n",
    "*(2.5 балла)*"
   ]
  },
  {
   "cell_type": "code",
   "execution_count": 12,
   "id": "3e0d2a39-8658-4266-aee5-2d45d82fe878",
   "metadata": {
    "nbgrader": {
     "grade": true,
     "grade_id": "cell-064ed90e1cda2af5",
     "locked": false,
     "points": 25,
     "schema_version": 3,
     "solution": true,
     "task": false
    },
    "tags": []
   },
   "outputs": [
    {
     "data": {
      "text/html": [
       "<div>\n",
       "<style scoped>\n",
       "    .dataframe tbody tr th:only-of-type {\n",
       "        vertical-align: middle;\n",
       "    }\n",
       "\n",
       "    .dataframe tbody tr th {\n",
       "        vertical-align: top;\n",
       "    }\n",
       "\n",
       "    .dataframe thead th {\n",
       "        text-align: right;\n",
       "    }\n",
       "</style>\n",
       "<table border=\"1\" class=\"dataframe\">\n",
       "  <thead>\n",
       "    <tr style=\"text-align: right;\">\n",
       "      <th></th>\n",
       "      <th>T</th>\n",
       "      <th>dof</th>\n",
       "      <th>alternative</th>\n",
       "      <th>p-val</th>\n",
       "      <th>CI95%</th>\n",
       "      <th>cohen-d</th>\n",
       "      <th>BF10</th>\n",
       "      <th>power</th>\n",
       "    </tr>\n",
       "  </thead>\n",
       "  <tbody>\n",
       "    <tr>\n",
       "      <th>T-test</th>\n",
       "      <td>32.906593</td>\n",
       "      <td>132789.194258</td>\n",
       "      <td>two-sided</td>\n",
       "      <td>1.595899e-236</td>\n",
       "      <td>[66.58, 75.02]</td>\n",
       "      <td>0.123157</td>\n",
       "      <td>1.827e+232</td>\n",
       "      <td>1.0</td>\n",
       "    </tr>\n",
       "  </tbody>\n",
       "</table>\n",
       "</div>"
      ],
      "text/plain": [
       "                T            dof alternative          p-val           CI95%  \\\n",
       "T-test  32.906593  132789.194258   two-sided  1.595899e-236  [66.58, 75.02]   \n",
       "\n",
       "         cohen-d        BF10  power  \n",
       "T-test  0.123157  1.827e+232    1.0  "
      ]
     },
     "metadata": {},
     "output_type": "display_data"
    },
    {
     "data": {
      "text/plain": [
       "Text(0, 0.5, 'RNA-seq signal')"
      ]
     },
     "execution_count": 12,
     "metadata": {},
     "output_type": "execute_result"
    },
    {
     "data": {
      "image/png": "[encoded data removed]",
      "text/plain": [
       "<Figure size 640x480 with 1 Axes>"
      ]
     },
     "metadata": {},
     "output_type": "display_data"
    }
   ],
   "source": [
    "# можете создавать доп. ячейки, но, пожалуйста, перед отправкой соберите всё в эту\n",
    "\n",
    "### BEGIN SOLUTION\n",
    "import pingouin as pg\n",
    "rnaseq = rnaseq.query('chr == \"chr15\"')\n",
    "rnaseq['position'] = rnaseq.apply(lambda row: list(range(row['start'], row['stop']+1)), axis=1)\n",
    "rnaseq = rnaseq.explode('position')\n",
    "\n",
    "ttset_res = pg.ttest(rnaseq.query('Sample == \"Health\"').signalValue, \n",
    "                     rnaseq.query('Sample == \"Desease\"').signalValue)\n",
    "display(ttset_res)\n",
    "\n",
    "\n",
    "\n",
    "sns.set_style(\"white\")\n",
    "sns.set_context(\"notebook\")\n",
    "sns.set_palette('Set2')\n",
    "\n",
    "sns.boxplot(rnaseq, y='signalValue', x='Sample', hue='Sample',\n",
    "            boxprops={'edgecolor':'k'})\n",
    "x1, x2 = 0, 1\n",
    "max_ = rnaseq['signalValue'].max()\n",
    "range_ = rnaseq['signalValue'].max() - rnaseq['signalValue'].min()\n",
    "y, h, col = max_ + range_, range_, 'k'\n",
    "plt.plot([x1, x1, x2, x2], [y, y+h, y+h, y], lw=1.5, c=col)\n",
    "plt.text((x1+x2)*.5, y+h, f\"p-value ={ttset_res['p-val']['T-test']:.2g}\", ha='center', va='bottom', color=col);\n",
    "\n",
    "plt.title('Chr 15 small RNA-seq signal')\n",
    "plt.yscale('log')\n",
    "ylims = plt.gca().get_ylim()\n",
    "plt.ylim((ylims[0], ylims[1]*2))\n",
    "plt.xlabel('Sample')\n",
    "plt.ylabel('RNA-seq signal')\n",
    "### END SOLUTION"
   ]
  },
  {
   "cell_type": "markdown",
   "id": "9945f441-4341-4661-ad51-bb1ed64ab8a9",
   "metadata": {
    "nbgrader": {
     "grade": false,
     "grade_id": "cell-8101f76cf6368400",
     "locked": true,
     "schema_version": 3,
     "solution": false,
     "task": false
    },
    "tags": []
   },
   "source": [
    "> Получается, мы показали наличие или отсутствие разницы в экспрессии малых РНК в нейронах между здоровыми людьми и пациентами с некоторым нейродегенеративным заболеванием. Осталось найти статьи чтобы проследить связь этих РНК с функциями некоторых конкретных генов и белков - и пожалуйста, у вас уже есть готовые наметки чтобы выстраивать патоэтиологию заболевания. Но это уже совсем другая история."
   ]
  },
  {
   "cell_type": "markdown",
   "id": "ce3e6915-08b8-44c9-92dc-f5494eba1642",
   "metadata": {
    "nbgrader": {
     "grade": false,
     "grade_id": "cell-7410aee8cbe80827",
     "locked": true,
     "schema_version": 3,
     "solution": false,
     "task": false
    },
    "tags": []
   },
   "source": [
    "---\n",
    "\n",
    "Надеюсь, у тебя всё получилось! Но в любом случае - ты молодец:)🥳\n",
    "\n",
    "---"
   ]
  }
 ],
 "metadata": {
  "kernelspec": {
   "display_name": "python_bi",
   "language": "python",
   "name": "python_bi"
  },
  "language_info": {
   "codemirror_mode": {
    "name": "ipython",
    "version": 3
   },
   "file_extension": ".py",
   "mimetype": "text/x-python",
   "name": "python",
   "nbconvert_exporter": "python",
   "pygments_lexer": "ipython3",
   "version": "3.11.6"
  }
 },
 "nbformat": 4,
 "nbformat_minor": 5
}
