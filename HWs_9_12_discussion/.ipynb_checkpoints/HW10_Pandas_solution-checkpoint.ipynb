{
 "cells": [
  {
   "cell_type": "markdown",
   "id": "bd0bc3cd-cb27-438c-a77f-39b405db3086",
   "metadata": {
    "nbgrader": {
     "grade": false,
     "grade_id": "cell-4d44b9cfed25e148",
     "locked": true,
     "schema_version": 3,
     "solution": false,
     "task": false
    }
   },
   "source": [
    "# <center>  Python for biologists\n",
    "    \n",
    "## Homework 10, Pandas\n",
    "\n",
    "\n",
    "\n",
    "## Правила\n",
    "\n",
    "- **Не создавайте доп. веток в репозитории, не копируйте ноутбук.**\n",
    "- Пишите код только там, где это от вас требуется (`# YOUR CODE HERE`)\n",
    "- Написав, удаляйте `raise NotImplementedError() `\n",
    "- Не переименовывайте переменные, если они уже созданы. Происходят автопроверки.\n",
    "- Под заданием для вас приведены проверки с помощью `assert`. Они падают с ошибкой если решено не правильно и молчат если всё правильно.\n",
    "- Перед отправкой проверьте что ваш ноутбук работает (юпитер-ноутбук). Нажмите на панели сверху `Kernel` -> `Restart Kernel and Run All Cells...`. Проверье что нет ошибок.\n",
    "    \n",
    "\n",
    "#### Погнали!\n",
    "\n",
    "---\n"
   ]
  },
  {
   "cell_type": "code",
   "execution_count": 1,
   "id": "b6fbadf7-974b-4217-9f15-454d2cc2a34d",
   "metadata": {
    "nbgrader": {
     "grade": false,
     "grade_id": "cell-c39821bd7c23a8c6",
     "locked": true,
     "schema_version": 3,
     "solution": false,
     "task": false
    },
    "tags": []
   },
   "outputs": [],
   "source": [
    "import hashlib\n",
    "from IPython.display import display\n",
    "\n",
    "import numpy as np\n",
    "import pandas as pd\n",
    "\n",
    "\n",
    "pd.DataFrame.__hash__ = lambda self: int(\n",
    "    hashlib.sha256(pd.util.hash_pandas_object(self, index=True).values).hexdigest(),\n",
    "    base=16,\n",
    ")\n",
    "pd.core.indexes.base.Index.__hash__ = lambda self: int(\n",
    "    hashlib.sha256(pd.util.hash_pandas_object(self, index=True).values).hexdigest(),\n",
    "    base=16,\n",
    ")\n",
    "pd.Series.__hash__ = lambda self: int(\n",
    "    hashlib.sha256(pd.util.hash_pandas_object(self, index=True).values).hexdigest(),\n",
    "    base=16,\n",
    ")"
   ]
  },
  {
   "cell_type": "markdown",
   "id": "f9fe93ef-9a5a-480a-834b-4e02dca97c46",
   "metadata": {
    "nbgrader": {
     "grade": false,
     "grade_id": "cell-7f4b857d77d7d993",
     "locked": true,
     "schema_version": 3,
     "solution": false,
     "task": false
    },
    "tags": []
   },
   "source": [
    "    \n",
    "## I. Обзор дата-фреймов\n",
    "    \n",
    "Здесь будем работать с дата-фреймом `olympics`\n",
    "\n",
    "\n",
    "\n",
    "<a href='https://www.kaggle.com/datasets/heesoo37/120-years-of-olympic-history-athletes-and-results'><img src=\"https://i.ytimg.com/vi/b4wlPz9p4e8/maxresdefault.jpg\" align=\"center\" width=\"500\" ></a>"
   ]
  },
  {
   "cell_type": "code",
   "execution_count": 2,
   "id": "0f66ca02-29da-4bca-863b-c2f6be6fda73",
   "metadata": {
    "nbgrader": {
     "grade": false,
     "grade_id": "cell-a13cd7d7670e026a",
     "locked": true,
     "schema_version": 3,
     "solution": false,
     "task": false
    },
    "slideshow": {
     "slide_type": ""
    },
    "tags": []
   },
   "outputs": [],
   "source": [
    "olympics = pd.read_csv('https://github.com/cleuer/olympics/raw/master/src/main/resources/olympic_history_120_years.csv')"
   ]
  },
  {
   "cell_type": "markdown",
   "id": "5592a260-3342-4878-8085-cfd5104ed8ea",
   "metadata": {
    "editable": true,
    "nbgrader": {
     "grade": false,
     "grade_id": "cell-424a7f47131d2d55",
     "locked": true,
     "schema_version": 3,
     "solution": false,
     "task": false
    },
    "slideshow": {
     "slide_type": ""
    },
    "tags": []
   },
   "source": [
    "#### **Задание 1**💅\n",
    "\n",
    "Выведите первые 3 строки дата-фрейма"
   ]
  },
  {
   "cell_type": "code",
   "execution_count": 3,
   "id": "90782e72-5249-46c6-9e80-238fbebab2ac",
   "metadata": {
    "nbgrader": {
     "grade": false,
     "grade_id": "cell-ab35080a2e9048a6",
     "locked": false,
     "schema_version": 3,
     "solution": true,
     "task": false
    },
    "tags": []
   },
   "outputs": [
    {
     "data": {
      "text/html": [
       "<div>\n",
       "<style scoped>\n",
       "    .dataframe tbody tr th:only-of-type {\n",
       "        vertical-align: middle;\n",
       "    }\n",
       "\n",
       "    .dataframe tbody tr th {\n",
       "        vertical-align: top;\n",
       "    }\n",
       "\n",
       "    .dataframe thead th {\n",
       "        text-align: right;\n",
       "    }\n",
       "</style>\n",
       "<table border=\"1\" class=\"dataframe\">\n",
       "  <thead>\n",
       "    <tr style=\"text-align: right;\">\n",
       "      <th></th>\n",
       "      <th>ID</th>\n",
       "      <th>Name</th>\n",
       "      <th>Sex</th>\n",
       "      <th>Age</th>\n",
       "      <th>Height</th>\n",
       "      <th>Weight</th>\n",
       "      <th>Team</th>\n",
       "      <th>NOC</th>\n",
       "      <th>Games</th>\n",
       "      <th>Year</th>\n",
       "      <th>Season</th>\n",
       "      <th>City</th>\n",
       "      <th>Sport</th>\n",
       "      <th>Event</th>\n",
       "      <th>Medal</th>\n",
       "    </tr>\n",
       "  </thead>\n",
       "  <tbody>\n",
       "    <tr>\n",
       "      <th>0</th>\n",
       "      <td>1</td>\n",
       "      <td>A Dijiang</td>\n",
       "      <td>M</td>\n",
       "      <td>24.0</td>\n",
       "      <td>180.0</td>\n",
       "      <td>80.0</td>\n",
       "      <td>China</td>\n",
       "      <td>CHN</td>\n",
       "      <td>1992 Summer</td>\n",
       "      <td>1992</td>\n",
       "      <td>Summer</td>\n",
       "      <td>Barcelona</td>\n",
       "      <td>Basketball</td>\n",
       "      <td>Basketball Men's Basketball</td>\n",
       "      <td>NaN</td>\n",
       "    </tr>\n",
       "    <tr>\n",
       "      <th>1</th>\n",
       "      <td>2</td>\n",
       "      <td>A Lamusi</td>\n",
       "      <td>M</td>\n",
       "      <td>23.0</td>\n",
       "      <td>170.0</td>\n",
       "      <td>60.0</td>\n",
       "      <td>China</td>\n",
       "      <td>CHN</td>\n",
       "      <td>2012 Summer</td>\n",
       "      <td>2012</td>\n",
       "      <td>Summer</td>\n",
       "      <td>London</td>\n",
       "      <td>Judo</td>\n",
       "      <td>Judo Men's Extra-Lightweight</td>\n",
       "      <td>NaN</td>\n",
       "    </tr>\n",
       "    <tr>\n",
       "      <th>2</th>\n",
       "      <td>3</td>\n",
       "      <td>Gunnar Nielsen Aaby</td>\n",
       "      <td>M</td>\n",
       "      <td>24.0</td>\n",
       "      <td>NaN</td>\n",
       "      <td>NaN</td>\n",
       "      <td>Denmark</td>\n",
       "      <td>DEN</td>\n",
       "      <td>1920 Summer</td>\n",
       "      <td>1920</td>\n",
       "      <td>Summer</td>\n",
       "      <td>Antwerpen</td>\n",
       "      <td>Football</td>\n",
       "      <td>Football Men's Football</td>\n",
       "      <td>NaN</td>\n",
       "    </tr>\n",
       "  </tbody>\n",
       "</table>\n",
       "</div>"
      ],
      "text/plain": [
       "   ID                 Name Sex   Age  Height  Weight     Team  NOC  \\\n",
       "0   1            A Dijiang   M  24.0   180.0    80.0    China  CHN   \n",
       "1   2             A Lamusi   M  23.0   170.0    60.0    China  CHN   \n",
       "2   3  Gunnar Nielsen Aaby   M  24.0     NaN     NaN  Denmark  DEN   \n",
       "\n",
       "         Games  Year  Season       City       Sport  \\\n",
       "0  1992 Summer  1992  Summer  Barcelona  Basketball   \n",
       "1  2012 Summer  2012  Summer     London        Judo   \n",
       "2  1920 Summer  1920  Summer  Antwerpen    Football   \n",
       "\n",
       "                          Event Medal  \n",
       "0   Basketball Men's Basketball   NaN  \n",
       "1  Judo Men's Extra-Lightweight   NaN  \n",
       "2       Football Men's Football   NaN  "
      ]
     },
     "metadata": {},
     "output_type": "display_data"
    }
   ],
   "source": [
    "result = ...\n",
    "### BEGIN SOLUTION\n",
    "result = olympics.head(3)\n",
    "### END SOLUTION\n",
    "display(result)"
   ]
  },
  {
   "cell_type": "code",
   "execution_count": 4,
   "id": "c4f5b263-d7aa-4134-887a-1a69b450df42",
   "metadata": {
    "nbgrader": {
     "grade": true,
     "grade_id": "cell-873f721b66636c4f",
     "locked": true,
     "points": 6,
     "schema_version": 3,
     "solution": false,
     "task": false
    },
    "tags": []
   },
   "outputs": [],
   "source": [
    "assert len(result) == 3\n",
    "assert isinstance(result, pd.core.frame.DataFrame)\n",
    "assert hash(result) == 507558853293347520"
   ]
  },
  {
   "cell_type": "markdown",
   "id": "f2c6012a-7516-4d30-a94f-b6464d4992e9",
   "metadata": {
    "nbgrader": {
     "grade": false,
     "grade_id": "cell-451dbfcd5fd09281",
     "locked": true,
     "schema_version": 3,
     "solution": false,
     "task": false
    },
    "tags": []
   },
   "source": [
    "#### **Задание 2** 💅\n",
    "\n",
    "Выведите названия всех колонок в дата-фрейме"
   ]
  },
  {
   "cell_type": "code",
   "execution_count": 5,
   "id": "ed3b1db6-ddcf-4e46-8e2d-872485c285b2",
   "metadata": {
    "nbgrader": {
     "grade": false,
     "grade_id": "cell-d768c26023eca51a",
     "locked": false,
     "schema_version": 3,
     "solution": true,
     "task": false
    },
    "tags": []
   },
   "outputs": [
    {
     "data": {
      "text/plain": [
       "Index(['ID', 'Name', 'Sex', 'Age', 'Height', 'Weight', 'Team', 'NOC', 'Games',\n",
       "       'Year', 'Season', 'City', 'Sport', 'Event', 'Medal'],\n",
       "      dtype='object')"
      ]
     },
     "metadata": {},
     "output_type": "display_data"
    }
   ],
   "source": [
    "result = ...\n",
    "### BEGIN SOLUTION\n",
    "result = olympics.columns\n",
    "### END SOLUTION\n",
    "display(result)"
   ]
  },
  {
   "cell_type": "code",
   "execution_count": 6,
   "id": "ef0101bf-b967-467d-9d79-ed660ec6a40b",
   "metadata": {
    "nbgrader": {
     "grade": true,
     "grade_id": "cell-2b41e359eda9ca22",
     "locked": true,
     "points": 6,
     "schema_version": 3,
     "solution": false,
     "task": false
    },
    "tags": []
   },
   "outputs": [],
   "source": [
    "assert len(result) == 15\n",
    "assert isinstance(result, pd.core.indexes.base.Index)\n",
    "assert hash(result) == 204161812668953242"
   ]
  },
  {
   "cell_type": "markdown",
   "id": "b79f940b-37dc-4377-8806-7f1ff95f919a",
   "metadata": {
    "nbgrader": {
     "grade": false,
     "grade_id": "cell-d6f6b928964bc9a4",
     "locked": true,
     "schema_version": 3,
     "solution": false,
     "task": false
    },
    "tags": []
   },
   "source": [
    "#### **Задание 3** 💅\n",
    "\n",
    "Сколько колонок имеют `ei` в имени?"
   ]
  },
  {
   "cell_type": "code",
   "execution_count": 7,
   "id": "f00b157a-51ec-4c8a-9bf7-8f80a7d4d191",
   "metadata": {
    "nbgrader": {
     "grade": false,
     "grade_id": "cell-6934c096c3e74b5c",
     "locked": false,
     "schema_version": 3,
     "solution": true,
     "task": false
    },
    "tags": []
   },
   "outputs": [],
   "source": [
    "result = ...\n",
    "### BEGIN SOLUTION\n",
    "result = sum(['ei' in column for column in olympics.columns])\n",
    "### END SOLUTION"
   ]
  },
  {
   "cell_type": "code",
   "execution_count": 8,
   "id": "e35b2369-43cb-4ae1-a97a-7f5d46d1d6b6",
   "metadata": {
    "nbgrader": {
     "grade": true,
     "grade_id": "cell-ddfab69579023526",
     "locked": true,
     "points": 6,
     "schema_version": 3,
     "solution": false,
     "task": false
    },
    "tags": []
   },
   "outputs": [],
   "source": [
    "assert result == 2"
   ]
  },
  {
   "cell_type": "markdown",
   "id": "0cd51eae-7cde-4adb-b592-ccdabae83440",
   "metadata": {
    "nbgrader": {
     "grade": false,
     "grade_id": "cell-1eda368d429f6ab1",
     "locked": true,
     "schema_version": 3,
     "solution": false,
     "task": false
    },
    "tags": []
   },
   "source": [
    "#### **Задание 4** 💅\n",
    "\n",
    "Выведите размерность дата-фрейма"
   ]
  },
  {
   "cell_type": "code",
   "execution_count": 9,
   "id": "9dc0fb70-5e54-4ab9-8b17-fd4894989f9d",
   "metadata": {
    "nbgrader": {
     "grade": false,
     "grade_id": "cell-668ba69fb6c560ba",
     "locked": false,
     "schema_version": 3,
     "solution": true,
     "task": false
    },
    "tags": []
   },
   "outputs": [],
   "source": [
    "result = ...\n",
    "### BEGIN SOLUTION\n",
    "result = olympics.shape\n",
    "### END SOLUTION"
   ]
  },
  {
   "cell_type": "code",
   "execution_count": 10,
   "id": "81dd803c-fcd8-4345-8ac6-9738ca51c23d",
   "metadata": {
    "nbgrader": {
     "grade": true,
     "grade_id": "cell-be550edcb21a63b3",
     "locked": true,
     "points": 6,
     "schema_version": 3,
     "solution": false,
     "task": false
    },
    "tags": []
   },
   "outputs": [],
   "source": [
    "assert result == (271116, 15)"
   ]
  },
  {
   "cell_type": "markdown",
   "id": "48cc597b-f82e-4ece-99bb-435da97eae57",
   "metadata": {
    "nbgrader": {
     "grade": false,
     "grade_id": "cell-9d691e8818df17cd",
     "locked": true,
     "schema_version": 3,
     "solution": false,
     "task": false
    },
    "tags": []
   },
   "source": [
    "#### **Задание 5** 💅\n",
    "\n",
    "Выведите количество NA в колонке `Weight`"
   ]
  },
  {
   "cell_type": "code",
   "execution_count": 11,
   "id": "15a53184-d54b-4b5b-9955-f3d19ad4ced5",
   "metadata": {
    "nbgrader": {
     "grade": false,
     "grade_id": "cell-f898b04d5add337c",
     "locked": false,
     "schema_version": 3,
     "solution": true,
     "task": false
    },
    "tags": []
   },
   "outputs": [],
   "source": [
    "result = ...\n",
    "### BEGIN SOLUTION\n",
    "result = olympics.Weight.isna().sum()\n",
    "### END SOLUTION"
   ]
  },
  {
   "cell_type": "code",
   "execution_count": 12,
   "id": "388209bc-f1a3-4058-8a88-734e057b7080",
   "metadata": {
    "nbgrader": {
     "grade": true,
     "grade_id": "cell-a44d67999446b676",
     "locked": true,
     "points": 6,
     "schema_version": 3,
     "solution": false,
     "task": false
    },
    "tags": []
   },
   "outputs": [],
   "source": [
    "assert result == 62875"
   ]
  },
  {
   "cell_type": "markdown",
   "id": "02165a47-a8d4-4388-93fd-6f9f59c1a42f",
   "metadata": {
    "nbgrader": {
     "grade": false,
     "grade_id": "cell-225934343e29b955",
     "locked": true,
     "schema_version": 3,
     "solution": false,
     "task": false
    },
    "tags": []
   },
   "source": [
    "#### **Задание 6** 💅\n",
    " \n",
    "Выведите количество уникальных значений в колонке `Weight` (для этого есть отдельный метод)"
   ]
  },
  {
   "cell_type": "code",
   "execution_count": 13,
   "id": "9403a061-5c98-49ee-a32a-cca2b4191f5a",
   "metadata": {
    "nbgrader": {
     "grade": false,
     "grade_id": "cell-67eef977740fff91",
     "locked": false,
     "schema_version": 3,
     "solution": true,
     "task": false
    },
    "tags": []
   },
   "outputs": [],
   "source": [
    "result = ...\n",
    "### BEGIN SOLUTION\n",
    "result = olympics.Weight.nunique()\n",
    "### END SOLUTION"
   ]
  },
  {
   "cell_type": "code",
   "execution_count": 14,
   "id": "e8a2c4c6-e58b-4e5d-9fc7-f26257830e29",
   "metadata": {
    "nbgrader": {
     "grade": true,
     "grade_id": "cell-c07cf06841b24e90",
     "locked": true,
     "points": 6,
     "schema_version": 3,
     "solution": false,
     "task": false
    },
    "tags": []
   },
   "outputs": [],
   "source": [
    "assert result == 220"
   ]
  },
  {
   "cell_type": "markdown",
   "id": "4fe5c61a-ff6c-4adb-950e-c4f6ec2f8dbd",
   "metadata": {
    "nbgrader": {
     "grade": false,
     "grade_id": "cell-dd7a8d27a0cb32dd",
     "locked": true,
     "schema_version": 3,
     "solution": false,
     "task": false
    },
    "tags": []
   },
   "source": [
    "#### **Задание 7** 💅\n",
    "\n",
    "Выведите самое часто-встречаемое значение в колонке `Weight`"
   ]
  },
  {
   "cell_type": "code",
   "execution_count": 15,
   "id": "5e022624-be37-4f40-952d-2f7800c8a4fb",
   "metadata": {
    "nbgrader": {
     "grade": false,
     "grade_id": "cell-f907531ee4535156",
     "locked": false,
     "schema_version": 3,
     "solution": true,
     "task": false
    },
    "tags": []
   },
   "outputs": [],
   "source": [
    "result = ...\n",
    "### BEGIN SOLUTION\n",
    "result = olympics.Weight.value_counts(ascending=False).index[0]\n",
    "### END SOLUTION"
   ]
  },
  {
   "cell_type": "code",
   "execution_count": 16,
   "id": "83e56e38-2762-4d29-9e3c-3ade38d5ecb4",
   "metadata": {
    "nbgrader": {
     "grade": true,
     "grade_id": "cell-26974fc6eabd9367",
     "locked": true,
     "points": 7,
     "schema_version": 3,
     "solution": false,
     "task": false
    },
    "tags": []
   },
   "outputs": [],
   "source": [
    "assert result == 70.0"
   ]
  },
  {
   "cell_type": "markdown",
   "id": "eaa428a0-33f2-42d1-a0c5-709bbd813b1d",
   "metadata": {
    "nbgrader": {
     "grade": false,
     "grade_id": "cell-1629c28267d6aa97",
     "locked": true,
     "schema_version": 3,
     "solution": false,
     "task": false
    },
    "tags": []
   },
   "source": [
    "#### **Задание 8** 💅\n",
    "\n",
    "Выведите максимальное значение в колонке `Weight`"
   ]
  },
  {
   "cell_type": "code",
   "execution_count": 17,
   "id": "0208f419-6353-4183-9b59-1ff4025d1559",
   "metadata": {
    "nbgrader": {
     "grade": false,
     "grade_id": "cell-ac65ec8f2cb1b4c2",
     "locked": false,
     "schema_version": 3,
     "solution": true,
     "task": false
    },
    "tags": []
   },
   "outputs": [],
   "source": [
    "result = ...\n",
    "### BEGIN SOLUTION\n",
    "result = olympics.Weight.max()\n",
    "### END SOLUTION"
   ]
  },
  {
   "cell_type": "code",
   "execution_count": 18,
   "id": "ae86c0be-2742-46df-bd78-fba49bdd7b3c",
   "metadata": {
    "nbgrader": {
     "grade": true,
     "grade_id": "cell-f07bd80efe8c4683",
     "locked": true,
     "points": 6,
     "schema_version": 3,
     "solution": false,
     "task": false
    },
    "tags": []
   },
   "outputs": [],
   "source": [
    "assert result == 214.0"
   ]
  },
  {
   "cell_type": "markdown",
   "id": "40a7c25f-1e69-4db1-843f-64e4773001b8",
   "metadata": {
    "nbgrader": {
     "grade": false,
     "grade_id": "cell-9e1dbfe91d2351d8",
     "locked": true,
     "schema_version": 3,
     "solution": false,
     "task": false
    },
    "tags": []
   },
   "source": [
    "#### **Задание 9** 💅\n",
    "\n",
    "Сколько колонок в дата-фрейме имеют тип данных `float64`?"
   ]
  },
  {
   "cell_type": "code",
   "execution_count": 19,
   "id": "e616e1fb-d666-41aa-aa4b-ea714cae04d9",
   "metadata": {
    "nbgrader": {
     "grade": false,
     "grade_id": "cell-7b0bad4973d7cece",
     "locked": false,
     "schema_version": 3,
     "solution": true,
     "task": false
    },
    "tags": []
   },
   "outputs": [],
   "source": [
    "result = ...\n",
    "### BEGIN SOLUTION\n",
    "result = sum(olympics.dtypes == 'float64')\n",
    "### END SOLUTION"
   ]
  },
  {
   "cell_type": "code",
   "execution_count": 20,
   "id": "c3a0a712-88ef-47b2-be6d-6eb05c336234",
   "metadata": {
    "nbgrader": {
     "grade": true,
     "grade_id": "cell-abadae734e5ea344",
     "locked": true,
     "points": 6,
     "schema_version": 3,
     "solution": false,
     "task": false
    },
    "tags": []
   },
   "outputs": [],
   "source": [
    "assert result == 3"
   ]
  },
  {
   "cell_type": "markdown",
   "id": "6e600c66-8cf0-4cec-942c-d0b95d80802e",
   "metadata": {
    "nbgrader": {
     "grade": false,
     "grade_id": "cell-aad5a256dc4829cb",
     "locked": true,
     "schema_version": 3,
     "solution": false,
     "task": false
    },
    "tags": []
   },
   "source": [
    "## II. Отбор данных"
   ]
  },
  {
   "cell_type": "markdown",
   "id": "cc5516cb-d53a-4e71-97bc-39b10d3725f8",
   "metadata": {
    "nbgrader": {
     "grade": false,
     "grade_id": "cell-3ead0f41d9e91aeb",
     "locked": true,
     "schema_version": 3,
     "solution": false,
     "task": false
    },
    "tags": []
   },
   "source": [
    "#### **Задание 10** 💅\n",
    "\n",
    "Как зовут атлета в `140228`й по счету строке дата-фрейма?"
   ]
  },
  {
   "cell_type": "code",
   "execution_count": 21,
   "id": "53c6c0b3-2cc1-4b04-a668-eada67395edf",
   "metadata": {
    "nbgrader": {
     "grade": false,
     "grade_id": "cell-f74eca2eece9e447",
     "locked": false,
     "schema_version": 3,
     "solution": true,
     "task": false
    },
    "tags": []
   },
   "outputs": [],
   "source": [
    "result = ...\n",
    "### BEGIN SOLUTION\n",
    "result = olympics.iloc[140227].Name\n",
    "### END SOLUTION"
   ]
  },
  {
   "cell_type": "code",
   "execution_count": 22,
   "id": "43d26f5b-a2ee-4368-a3f5-0d8509c99ae7",
   "metadata": {
    "nbgrader": {
     "grade": true,
     "grade_id": "cell-b16cb22b21275ceb",
     "locked": true,
     "points": 6,
     "schema_version": 3,
     "solution": false,
     "task": false
    },
    "tags": []
   },
   "outputs": [],
   "source": [
    "assert result == 'Yuliya Vyacheslavovna Lipnitskaya'"
   ]
  },
  {
   "cell_type": "markdown",
   "id": "d92f72f8-4dc1-4cd6-ad63-75da029dc205",
   "metadata": {
    "nbgrader": {
     "grade": false,
     "grade_id": "cell-2faf99d7a3335c9c",
     "locked": true,
     "schema_version": 3,
     "solution": false,
     "task": false
    },
    "tags": []
   },
   "source": [
    "#### **Задание 11** 💅\n",
    "\n",
    "В каком городе проходили игры, запись с которых сделана в строке с индексом 360?"
   ]
  },
  {
   "cell_type": "code",
   "execution_count": 23,
   "id": "fccc7684-11cd-4752-a3a3-f4d5979c1199",
   "metadata": {
    "nbgrader": {
     "grade": false,
     "grade_id": "cell-79e9e4f0c86bdd16",
     "locked": false,
     "schema_version": 3,
     "solution": true,
     "task": false
    },
    "tags": []
   },
   "outputs": [],
   "source": [
    "result = ...\n",
    "### BEGIN SOLUTION\n",
    "result = olympics.loc[360].City\n",
    "### END SOLUTION"
   ]
  },
  {
   "cell_type": "code",
   "execution_count": 24,
   "id": "ef818497-6077-49fc-995b-ff966b34f6ed",
   "metadata": {
    "nbgrader": {
     "grade": true,
     "grade_id": "cell-1b43bae7dea073bd",
     "locked": true,
     "points": 6,
     "schema_version": 3,
     "solution": false,
     "task": false
    },
    "tags": []
   },
   "outputs": [],
   "source": [
    "assert result == 'Seoul'"
   ]
  },
  {
   "cell_type": "markdown",
   "id": "95ba003f-ce86-4b49-943d-0e13c635a25e",
   "metadata": {
    "nbgrader": {
     "grade": false,
     "grade_id": "cell-1c9e6173e29a5561",
     "locked": true,
     "schema_version": 3,
     "solution": false,
     "task": false
    },
    "tags": []
   },
   "source": [
    "#### **Задание 12** 💅\n",
    "\n",
    "Отберите все записи относящиеся к мужчинам"
   ]
  },
  {
   "cell_type": "code",
   "execution_count": 25,
   "id": "5a6fd4c3-a333-4e79-ae62-8d5b91882aac",
   "metadata": {
    "nbgrader": {
     "grade": false,
     "grade_id": "cell-21cff1e910d36a96",
     "locked": false,
     "schema_version": 3,
     "solution": true,
     "task": false
    },
    "tags": []
   },
   "outputs": [],
   "source": [
    "result = ...\n",
    "### BEGIN SOLUTION\n",
    "result = olympics.query('Sex == \"M\"')\n",
    "### END SOLUTION"
   ]
  },
  {
   "cell_type": "code",
   "execution_count": 26,
   "id": "f3092ddf-6fff-4885-bece-439618b05eb4",
   "metadata": {
    "nbgrader": {
     "grade": true,
     "grade_id": "cell-6626514d227b1c72",
     "locked": true,
     "points": 6,
     "schema_version": 3,
     "solution": false,
     "task": false
    },
    "tags": []
   },
   "outputs": [],
   "source": [
    "assert len(result) == 196594\n",
    "assert hash(result) == 53408147431013694"
   ]
  },
  {
   "cell_type": "markdown",
   "id": "f49e5a17-b18c-4054-bd10-8346ee2a86fc",
   "metadata": {
    "nbgrader": {
     "grade": false,
     "grade_id": "cell-094c9f53fdef5cb0",
     "locked": true,
     "schema_version": 3,
     "solution": false,
     "task": false
    },
    "tags": []
   },
   "source": [
    "#### **Задание 13** 💅\n",
    "\n",
    "Отберите все записи относящиеся летним играм в Барселоне"
   ]
  },
  {
   "cell_type": "code",
   "execution_count": 27,
   "id": "0768eeaa-fa61-41f0-b097-21d0455a4fa7",
   "metadata": {
    "nbgrader": {
     "grade": false,
     "grade_id": "cell-233aad32932a7432",
     "locked": false,
     "schema_version": 3,
     "solution": true,
     "task": false
    },
    "tags": []
   },
   "outputs": [],
   "source": [
    "result = ...\n",
    "### BEGIN SOLUTION\n",
    "result = olympics.query('Season == \"Summer\" and City == \"Barcelona\"')\n",
    "### END SOLUTION"
   ]
  },
  {
   "cell_type": "code",
   "execution_count": 28,
   "id": "30648523-5b7a-46a4-a328-2ea8d622273c",
   "metadata": {
    "nbgrader": {
     "grade": true,
     "grade_id": "cell-4d374ad2be4104be",
     "locked": true,
     "points": 6,
     "schema_version": 3,
     "solution": false,
     "task": false
    },
    "tags": []
   },
   "outputs": [],
   "source": [
    "assert len(result) == 12977\n",
    "assert hash(result) == 1257297863566133861"
   ]
  },
  {
   "cell_type": "markdown",
   "id": "270ca9be-9b98-4b4c-8be6-4671c84f700b",
   "metadata": {
    "nbgrader": {
     "grade": false,
     "grade_id": "cell-80c7449f5bcc8e11",
     "locked": true,
     "schema_version": 3,
     "solution": false,
     "task": false
    },
    "tags": []
   },
   "source": [
    "#### **Задание 14** 💅\n",
    "\n",
    "Какую медаль получила Юлия Липницкая в зимних играх 2014 года в индивидуальном зачёте?"
   ]
  },
  {
   "cell_type": "code",
   "execution_count": 29,
   "id": "a78645b8-3802-4b80-9cd0-07ac9ecb53d4",
   "metadata": {
    "nbgrader": {
     "grade": false,
     "grade_id": "cell-cf37c10d511ad76a",
     "locked": false,
     "schema_version": 3,
     "solution": true,
     "task": false
    },
    "tags": []
   },
   "outputs": [],
   "source": [
    "result = ...\n",
    "### BEGIN SOLUTION\n",
    "result = olympics.query('Name == \"Yuliya Vyacheslavovna Lipnitskaya\" and Event  == \"Figure Skating Women\\'s Singles\"')\n",
    "result = result.Medal.values[0]\n",
    "### END SOLUTION"
   ]
  },
  {
   "cell_type": "code",
   "execution_count": 30,
   "id": "e2b7daff-7473-45a8-8e94-2c83c2ededc6",
   "metadata": {
    "nbgrader": {
     "grade": true,
     "grade_id": "cell-e892bbd6ff7ee7db",
     "locked": true,
     "points": 7,
     "schema_version": 3,
     "solution": false,
     "task": false
    },
    "tags": []
   },
   "outputs": [],
   "source": [
    "assert result is np.nan "
   ]
  },
  {
   "cell_type": "markdown",
   "id": "f7f3a309-4622-453b-9dc9-a10ada8b9e24",
   "metadata": {
    "nbgrader": {
     "grade": false,
     "grade_id": "cell-0927fd990b5306af",
     "locked": true,
     "schema_version": 3,
     "solution": false,
     "task": false
    },
    "tags": []
   },
   "source": [
    "#### **Задание 15** 💅\n",
    "\n",
    "Замените все NA в колонке `Medal` на `\"No medal\"` (для этого есть специальный метод)"
   ]
  },
  {
   "cell_type": "code",
   "execution_count": 31,
   "id": "f4acc5e1-5f67-4f81-b7da-1a0b4fc32258",
   "metadata": {
    "nbgrader": {
     "grade": false,
     "grade_id": "cell-097bd3d452be27a8",
     "locked": false,
     "schema_version": 3,
     "solution": true,
     "task": false
    },
    "tags": []
   },
   "outputs": [],
   "source": [
    "### BEGIN SOLUTION\n",
    "olympics.Medal = olympics.Medal.fillna(\"No medal\")\n",
    "### END SOLUTION"
   ]
  },
  {
   "cell_type": "code",
   "execution_count": 32,
   "id": "905a8e05-0362-4037-b56f-3ed7c5237084",
   "metadata": {
    "nbgrader": {
     "grade": true,
     "grade_id": "cell-e2699ce9b7be179f",
     "locked": true,
     "points": 7,
     "schema_version": 3,
     "solution": false,
     "task": false
    },
    "tags": []
   },
   "outputs": [],
   "source": [
    "assert olympics.Medal.isna().sum() == 0\n",
    "assert olympics.Medal.value_counts().to_dict()['No medal'] == 231333\n",
    "assert hash(olympics) == 1196581486896556999"
   ]
  },
  {
   "cell_type": "markdown",
   "id": "1ae84951-f565-4ce4-8be3-5c4de2f35b09",
   "metadata": {
    "nbgrader": {
     "grade": false,
     "grade_id": "cell-70e8c5ebfedc3712",
     "locked": true,
     "schema_version": 3,
     "solution": false,
     "task": false
    },
    "tags": []
   },
   "source": [
    "#### **Задание 16** 💅\n",
    "\n",
    "Создайте в дата-фрейме колонку `BMI` с соотвествующими значениями"
   ]
  },
  {
   "cell_type": "code",
   "execution_count": 33,
   "id": "bcf8d7ce-fdea-4296-9531-352aaf95b9a2",
   "metadata": {
    "nbgrader": {
     "grade": false,
     "grade_id": "cell-22ca17c2d42885e5",
     "locked": false,
     "schema_version": 3,
     "solution": true,
     "task": false
    },
    "tags": []
   },
   "outputs": [],
   "source": [
    "### BEGIN SOLUTION\n",
    "olympics['BMI'] = olympics['Weight'] / ( olympics['Height'] / 100 ) ** 2\n",
    "### END SOLUTION"
   ]
  },
  {
   "cell_type": "code",
   "execution_count": 34,
   "id": "e5c90a08-784b-47a8-ad2a-81d2fb5326e0",
   "metadata": {
    "nbgrader": {
     "grade": true,
     "grade_id": "cell-2d9eea5a9ad54ea7",
     "locked": true,
     "points": 7,
     "schema_version": 3,
     "solution": false,
     "task": false
    },
    "tags": []
   },
   "outputs": [],
   "source": [
    "assert np.isclose(olympics.BMI.mean(), 22.7845, atol=1e-3)\n",
    "assert np.isclose(olympics.BMI.std(), 2.9120, atol=1e-3)\n",
    "assert olympics.BMI.isna().sum() == 64263\n",
    "assert hash(olympics) == 1059869394349329045"
   ]
  },
  {
   "cell_type": "markdown",
   "id": "f70e58c3-1075-4777-bc5b-e40a77ee5b67",
   "metadata": {
    "nbgrader": {
     "grade": false,
     "grade_id": "cell-d6425356d4428528",
     "locked": true,
     "schema_version": 3,
     "solution": false,
     "task": false
    },
    "tags": []
   },
   "source": [
    "### **Задание XXX**\n",
    "\n",
    "Нажмите на панели сверху `Kernel` -> `Restart Kernel and Run All Cells...`. Проверьте что нет ошибок."
   ]
  },
  {
   "cell_type": "markdown",
   "id": "0a838e6f-7b36-44c6-b6f0-7fe29afa407e",
   "metadata": {
    "nbgrader": {
     "grade": false,
     "grade_id": "cell-b93c7613f3dc7af1",
     "locked": true,
     "schema_version": 3,
     "solution": false,
     "task": false
    },
    "tags": []
   },
   "source": [
    "---\n",
    "# EDA\n",
    "\n",
    "В 2 части этого ДЗ вам предстоит написать ваш модуль для EDA. Покажите тут, что у вас получилось!\n",
    "\n",
    "> По идее, вам нужно только запустить ячейку и всё. Но можете изменить датасет если хотите."
   ]
  },
  {
   "cell_type": "code",
   "execution_count": 2,
   "id": "44e7c441-59c0-4425-b426-7837bcce6ef6",
   "metadata": {},
   "outputs": [],
   "source": [
    "# Можете вставить любой репрезантивный дата-фрейм на ваше усмотрение :)\n",
    "data_dir = 'https://raw.githubusercontent.com/Python-BI-2023/course_materials/main/data/'\n",
    "df = pd.read_csv(data_dir + 'titanic.csv')"
   ]
  },
  {
   "cell_type": "code",
   "execution_count": 36,
   "id": "f0063f55-d0aa-4fed-83ef-3abb135a7a93",
   "metadata": {
    "nbgrader": {
     "grade": false,
     "grade_id": "cell-82741bbfee5f6a8e",
     "locked": true,
     "schema_version": 3,
     "solution": false,
     "task": false
    },
    "tags": []
   },
   "outputs": [
    {
     "name": "stdout",
     "output_type": "stream",
     "text": [
      "\u001b[93mЗдЕсЬ\u001b[0m \u001b[95mмОжЕт\u001b[0m \u001b[96mБыТь\u001b[0m \u001b[93mВаШ\u001b[0m \u001b[92mEDA\u001b[0m\n"
     ]
    }
   ],
   "source": [
    "from my_awesome_eda import run_eda\n",
    "\n",
    "run_eda(df)"
   ]
  },
  {
   "cell_type": "markdown",
   "id": "acd3815b-14af-44df-8d78-11f261e46325",
   "metadata": {
    "nbgrader": {
     "grade": false,
     "grade_id": "cell-b75415a18ce0d88f",
     "locked": true,
     "schema_version": 3,
     "solution": false,
     "task": false
    },
    "tags": []
   },
   "source": [
    "---\n",
    "\n",
    "Надеюсь, у тебя всё получилось! Но в любом случае - ты молодец:)🥳\n",
    "\n",
    "---"
   ]
  }
 ],
 "metadata": {
  "kernelspec": {
   "display_name": "Python 3 (ipykernel)",
   "language": "python",
   "name": "python3"
  },
  "language_info": {
   "codemirror_mode": {
    "name": "ipython",
    "version": 3
   },
   "file_extension": ".py",
   "mimetype": "text/x-python",
   "name": "python",
   "nbconvert_exporter": "python",
   "pygments_lexer": "ipython3",
   "version": "3.11.6"
  }
 },
 "nbformat": 4,
 "nbformat_minor": 5
}
