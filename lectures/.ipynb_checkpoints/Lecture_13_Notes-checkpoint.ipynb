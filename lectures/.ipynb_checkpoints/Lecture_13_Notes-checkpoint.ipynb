{
 "cells": [
  {
   "cell_type": "markdown",
   "id": "7dce6f2d-8d4b-4523-a618-a8893fd13ece",
   "metadata": {},
   "source": [
    "# Imports"
   ]
  },
  {
   "cell_type": "code",
   "execution_count": null,
   "id": "cd3bd6fa-0ed9-4aa6-998d-894d2c29c986",
   "metadata": {},
   "outputs": [],
   "source": [
    "import sys, os, re\n",
    "from sklearn.tree import DecisionTreeRegressor, DecisionTreeClassifier\n",
    "from sklearn.metrics import r2_score, roc_auc_score, roc_curve, accuracy_score, f1_score, mean_squared_error, confusion_matrix, ConfusionMatrixDisplay\n",
    "import numpy as np\n",
    "import matplotlib.pyplot as plt\n",
    "import seaborn as sns\n",
    "import warnings\n",
    "import pandas as pd\n",
    "import random\n",
    "import math as mt\n",
    "from matplotlib.colors import ListedColormap\n",
    "from scipy.stats import pearsonr\n",
    "from itertools import combinations\n",
    "from sklearn.neighbors import KNeighborsClassifier\n",
    "from sklearn.model_selection import cross_val_score, GridSearchCV, KFold\n",
    "from sklearn.preprocessing import StandardScaler, OneHotEncoder\n",
    "import xgboost\n",
    "import lightgbm\n",
    "from sklearn.pipeline import Pipeline, make_pipeline\n",
    "from sklearn.compose import ColumnTransformer\n"
   ]
  },
  {
   "cell_type": "code",
   "execution_count": null,
   "id": "460bda1c-f97e-4969-b385-d7f75aa06b12",
   "metadata": {},
   "outputs": [],
   "source": [
    "import math as mt\n",
    "import os\n",
    "import random\n",
    "import re\n",
    "import sys\n",
    "import warnings\n",
    "from itertools import combinations\n",
    "\n",
    "import lightgbm\n",
    "import matplotlib.pyplot as plt\n",
    "import numpy as np\n",
    "import pandas as pd\n",
    "import seaborn as sns\n",
    "import xgboost\n",
    "from matplotlib.colors import ListedColormap\n",
    "from scipy.stats import pearsonr\n",
    "from sklearn.compose import ColumnTransformer\n",
    "from sklearn.metrics import (ConfusionMatrixDisplay, accuracy_score,\n",
    "                             confusion_matrix, f1_score, mean_squared_error,\n",
    "                             r2_score, roc_auc_score, roc_curve)\n",
    "from sklearn.model_selection import GridSearchCV, KFold, cross_val_score\n",
    "from sklearn.neighbors import KNeighborsClassifier\n",
    "from sklearn.pipeline import Pipeline, make_pipeline\n",
    "from sklearn.preprocessing import OneHotEncoder, StandardScaler\n",
    "from sklearn.tree import DecisionTreeClassifier, DecisionTreeRegressor\n",
    "\n",
    "from Lectures/scripts/my_math import pi"
   ]
  },
  {
   "cell_type": "code",
   "execution_count": null,
   "id": "c8dd9636-ec9b-409a-af2f-fd3205e6198e",
   "metadata": {},
   "outputs": [],
   "source": []
  },
  {
   "cell_type": "markdown",
   "id": "e5cef581-b2ba-47ca-97d7-4101053633c7",
   "metadata": {},
   "source": [
    "## PCA in python"
   ]
  },
  {
   "cell_type": "code",
   "execution_count": 88,
   "id": "e0435b29-04ae-47c3-9c52-f9a2b2d06fde",
   "metadata": {
    "tags": []
   },
   "outputs": [],
   "source": [
    "import numpy as np\n",
    "import pandas as pd\n",
    "import matplotlib.pyplot as plt\n",
    "import seaborn as sns\n",
    "from IPython.display import display\n",
    "\n",
    "\n",
    "from sklearn.preprocessing import StandardScaler\n",
    "from sklearn.decomposition import PCA"
   ]
  },
  {
   "cell_type": "code",
   "execution_count": 100,
   "id": "175ff013-3a0c-4446-9f46-9e247fd67811",
   "metadata": {
    "tags": []
   },
   "outputs": [],
   "source": [
    "data_dir = 'https://raw.githubusercontent.com/Python-BI-2023/course_materials/main/data/'\n",
    "titanic = pd.read_csv(data_dir + 'titanic.csv')\n",
    "de_data = pd.read_csv(data_dir + 'DE_data_1.tsv', sep='\\t', index_col='Unnamed: 0').T\n",
    "meta = pd.DataFrame({'ENCFF240NOH': ('TAP pre-treated', 1), \n",
    "                     'ENCFF245SJH': ('TAP pre-treated', 2), \n",
    "                     'ENCFF321FEM': ('No treat', 1), \n",
    "                     'ENCFF368OTJ': ('No treat', 2), \n",
    "                     'ENCFF711LJB': ('AP-TAP pre-treated', 1), \n",
    "                     'ENCFF826APU': ('AP-TAP pre-treated', 2)}, index=['Sample', 'Replicate']).T"
   ]
  },
  {
   "cell_type": "code",
   "execution_count": 101,
   "id": "98548fe8-ff72-4d35-b67e-871d802a82bf",
   "metadata": {
    "tags": []
   },
   "outputs": [
    {
     "data": {
      "text/html": [
       "<div>\n",
       "<style scoped>\n",
       "    .dataframe tbody tr th:only-of-type {\n",
       "        vertical-align: middle;\n",
       "    }\n",
       "\n",
       "    .dataframe tbody tr th {\n",
       "        vertical-align: top;\n",
       "    }\n",
       "\n",
       "    .dataframe thead th {\n",
       "        text-align: right;\n",
       "    }\n",
       "</style>\n",
       "<table border=\"1\" class=\"dataframe\">\n",
       "  <thead>\n",
       "    <tr style=\"text-align: right;\">\n",
       "      <th></th>\n",
       "      <th>Sample</th>\n",
       "      <th>Replicate</th>\n",
       "    </tr>\n",
       "  </thead>\n",
       "  <tbody>\n",
       "    <tr>\n",
       "      <th>ENCFF240NOH</th>\n",
       "      <td>TAP pre-treated</td>\n",
       "      <td>1</td>\n",
       "    </tr>\n",
       "    <tr>\n",
       "      <th>ENCFF245SJH</th>\n",
       "      <td>TAP pre-treated</td>\n",
       "      <td>2</td>\n",
       "    </tr>\n",
       "    <tr>\n",
       "      <th>ENCFF321FEM</th>\n",
       "      <td>No treat</td>\n",
       "      <td>1</td>\n",
       "    </tr>\n",
       "    <tr>\n",
       "      <th>ENCFF368OTJ</th>\n",
       "      <td>No treat</td>\n",
       "      <td>2</td>\n",
       "    </tr>\n",
       "    <tr>\n",
       "      <th>ENCFF711LJB</th>\n",
       "      <td>AP-TAP pre-treated</td>\n",
       "      <td>1</td>\n",
       "    </tr>\n",
       "    <tr>\n",
       "      <th>ENCFF826APU</th>\n",
       "      <td>AP-TAP pre-treated</td>\n",
       "      <td>2</td>\n",
       "    </tr>\n",
       "  </tbody>\n",
       "</table>\n",
       "</div>"
      ],
      "text/plain": [
       "                         Sample Replicate\n",
       "ENCFF240NOH     TAP pre-treated         1\n",
       "ENCFF245SJH     TAP pre-treated         2\n",
       "ENCFF321FEM            No treat         1\n",
       "ENCFF368OTJ            No treat         2\n",
       "ENCFF711LJB  AP-TAP pre-treated         1\n",
       "ENCFF826APU  AP-TAP pre-treated         2"
      ]
     },
     "execution_count": 101,
     "metadata": {},
     "output_type": "execute_result"
    }
   ],
   "source": [
    "meta"
   ]
  },
  {
   "cell_type": "code",
   "execution_count": 108,
   "id": "2cb9893a-a3ef-47f7-838f-6581669a796c",
   "metadata": {
    "tags": []
   },
   "outputs": [],
   "source": [
    "de_data = StandardScaler().fit_transform(de_data)\n",
    "pca = PCA(n_components=2)\n",
    "principal_components = pca.fit_transform(de_data)\n",
    "pca_df = pd.DataFrame(data = principal_components, columns = ['PC1', 'PC2'], index=meta.index)\n",
    "pca_df = pca_df.merge(meta, left_index=True, right_index=True)"
   ]
  },
  {
   "cell_type": "code",
   "execution_count": 109,
   "id": "ae5ae8e5-93ef-45e1-b0a7-c0084c0120b1",
   "metadata": {
    "tags": []
   },
   "outputs": [
    {
     "data": {
      "text/html": [
       "<div>\n",
       "<style scoped>\n",
       "    .dataframe tbody tr th:only-of-type {\n",
       "        vertical-align: middle;\n",
       "    }\n",
       "\n",
       "    .dataframe tbody tr th {\n",
       "        vertical-align: top;\n",
       "    }\n",
       "\n",
       "    .dataframe thead th {\n",
       "        text-align: right;\n",
       "    }\n",
       "</style>\n",
       "<table border=\"1\" class=\"dataframe\">\n",
       "  <thead>\n",
       "    <tr style=\"text-align: right;\">\n",
       "      <th></th>\n",
       "      <th>PC1</th>\n",
       "      <th>PC2</th>\n",
       "      <th>Sample</th>\n",
       "      <th>Replicate</th>\n",
       "    </tr>\n",
       "  </thead>\n",
       "  <tbody>\n",
       "    <tr>\n",
       "      <th>ENCFF240NOH</th>\n",
       "      <td>-28.193340</td>\n",
       "      <td>-15.993773</td>\n",
       "      <td>TAP pre-treated</td>\n",
       "      <td>1</td>\n",
       "    </tr>\n",
       "    <tr>\n",
       "      <th>ENCFF245SJH</th>\n",
       "      <td>-26.198769</td>\n",
       "      <td>-90.835465</td>\n",
       "      <td>TAP pre-treated</td>\n",
       "      <td>2</td>\n",
       "    </tr>\n",
       "    <tr>\n",
       "      <th>ENCFF321FEM</th>\n",
       "      <td>-90.869858</td>\n",
       "      <td>-51.687748</td>\n",
       "      <td>No treat</td>\n",
       "      <td>1</td>\n",
       "    </tr>\n",
       "  </tbody>\n",
       "</table>\n",
       "</div>"
      ],
      "text/plain": [
       "                   PC1        PC2           Sample Replicate\n",
       "ENCFF240NOH -28.193340 -15.993773  TAP pre-treated         1\n",
       "ENCFF245SJH -26.198769 -90.835465  TAP pre-treated         2\n",
       "ENCFF321FEM -90.869858 -51.687748         No treat         1"
      ]
     },
     "execution_count": 109,
     "metadata": {},
     "output_type": "execute_result"
    }
   ],
   "source": [
    "pca_df.head(3)"
   ]
  },
  {
   "cell_type": "code",
   "execution_count": 111,
   "id": "df0e77da-6c6e-41fa-bd88-c98a7e020ced",
   "metadata": {
    "tags": []
   },
   "outputs": [
    {
     "data": {
      "image/png": "[encoded data removed]",
      "text/plain": [
       "<Figure size 500x400 with 1 Axes>"
      ]
     },
     "metadata": {},
     "output_type": "display_data"
    }
   ],
   "source": [
    "fig, ax = plt.subplots(figsize=(5, 4))\n",
    "sns.set_context(\"paper\", font_scale=1.5)\n",
    "sns.scatterplot(data=pca_df, x=\"PC1\", y=\"PC2\", hue=\"Sample\", style = 'Replicate', s=100)\n",
    "plt.legend(loc=\"upper right\", fontsize=5)\n",
    "\n",
    "var_pc1 = (pca.explained_variance_ratio_[0]*100).round(3)\n",
    "var_pc2 = (pca.explained_variance_ratio_[1]*100).round(3)\n",
    "plt.xlabel('PC1, ('+ var_pc1.astype(str) + \"%)\", fontsize = 15, labelpad = 10)\n",
    "plt.ylabel('PC2, ('+ var_pc2.astype(str) + \"%)\", fontsize = 15, labelpad = 2)\n",
    "\n",
    "handles, labels = plt.gca().get_legend_handles_labels()\n",
    "\n",
    "plt.legend(handles, labels, fontsize=9, loc=\"upper left\", bbox_to_anchor=(1,1))\n",
    "\n",
    "ax.grid()"
   ]
  },
  {
   "attachments": {
    "f63e63ed-dab9-4427-9ef9-d40144752011.png": {
     "image/png": "[encoded data removed]"
    }
   },
   "cell_type": "markdown",
   "id": "c6e696fb-d1ec-49ff-b061-c7c3759d73c4",
   "metadata": {},
   "source": [
    "<a href=\"https://pandas.pydata.org/\"><img src=\"attachment:f63e63ed-dab9-4427-9ef9-d40144752011.png\" align=\"right\" width=\"150\" ></a>\n",
    "# RPy2\n",
    "\n",
    "[GitHub](https://rpy2.github.io/)\n"
   ]
  },
  {
   "cell_type": "code",
   "execution_count": 77,
   "id": "53367c5c-6a2e-4006-b6c4-cd00530f0f98",
   "metadata": {
    "tags": []
   },
   "outputs": [],
   "source": [
    "import os\n",
    "#os.environ[\"R_HOME\"] = r\"C:\\R\\R-4.3.0\" \n",
    "import rpy2"
   ]
  },
  {
   "cell_type": "code",
   "execution_count": 72,
   "id": "13ccf75b-6209-4ee6-80a5-396ddf33ff3a",
   "metadata": {
    "tags": []
   },
   "outputs": [
    {
     "name": "stdout",
     "output_type": "stream",
     "text": [
      "The rpy2.ipython extension is already loaded. To reload it, use:\n",
      "  %reload_ext rpy2.ipython\n"
     ]
    }
   ],
   "source": [
    "%load_ext rpy2.ipython"
   ]
  },
  {
   "cell_type": "code",
   "execution_count": 112,
   "id": "6dc2fe57-64c0-486b-8fe1-4904069de157",
   "metadata": {
    "tags": []
   },
   "outputs": [],
   "source": [
    "import rpy2.robjects as robjects\n",
    "\n",
    "rprint = robjects.globalenv.find(\"print\")"
   ]
  },
  {
   "cell_type": "code",
   "execution_count": 115,
   "id": "fe8117ee-6c54-4750-9d89-82d757d5d579",
   "metadata": {
    "tags": []
   },
   "outputs": [
    {
     "name": "stdout",
     "output_type": "stream",
     "text": [
      "1\n"
     ]
    }
   ],
   "source": [
    "print(1);"
   ]
  },
  {
   "cell_type": "code",
   "execution_count": 114,
   "id": "7c652c64-6834-4cde-a4a0-6485827e4993",
   "metadata": {
    "tags": []
   },
   "outputs": [
    {
     "name": "stdout",
     "output_type": "stream",
     "text": [
      "[1] 1\n"
     ]
    }
   ],
   "source": [
    "rprint(1);"
   ]
  },
  {
   "cell_type": "code",
   "execution_count": 73,
   "id": "e8768d85-56fb-4bc6-9817-3613957eb6dd",
   "metadata": {
    "tags": []
   },
   "outputs": [
    {
     "data": {
      "text/html": [
       "<div>\n",
       "<style scoped>\n",
       "    .dataframe tbody tr th:only-of-type {\n",
       "        vertical-align: middle;\n",
       "    }\n",
       "\n",
       "    .dataframe tbody tr th {\n",
       "        vertical-align: top;\n",
       "    }\n",
       "\n",
       "    .dataframe thead th {\n",
       "        text-align: right;\n",
       "    }\n",
       "</style>\n",
       "<table border=\"1\" class=\"dataframe\">\n",
       "  <thead>\n",
       "    <tr style=\"text-align: right;\">\n",
       "      <th></th>\n",
       "      <th>PassengerId</th>\n",
       "      <th>Pclass</th>\n",
       "      <th>Name</th>\n",
       "      <th>Sex</th>\n",
       "      <th>Age</th>\n",
       "      <th>SibSp</th>\n",
       "      <th>Parch</th>\n",
       "      <th>Ticket</th>\n",
       "      <th>Fare</th>\n",
       "      <th>Cabin</th>\n",
       "      <th>Embarked</th>\n",
       "    </tr>\n",
       "  </thead>\n",
       "  <tbody>\n",
       "    <tr>\n",
       "      <th>0</th>\n",
       "      <td>892</td>\n",
       "      <td>3</td>\n",
       "      <td>Kelly, Mr. James</td>\n",
       "      <td>male</td>\n",
       "      <td>34.5</td>\n",
       "      <td>0</td>\n",
       "      <td>0</td>\n",
       "      <td>330911</td>\n",
       "      <td>7.8292</td>\n",
       "      <td>NaN</td>\n",
       "      <td>Q</td>\n",
       "    </tr>\n",
       "    <tr>\n",
       "      <th>1</th>\n",
       "      <td>893</td>\n",
       "      <td>3</td>\n",
       "      <td>Wilkes, Mrs. James (Ellen Needs)</td>\n",
       "      <td>female</td>\n",
       "      <td>47.0</td>\n",
       "      <td>1</td>\n",
       "      <td>0</td>\n",
       "      <td>363272</td>\n",
       "      <td>7.0000</td>\n",
       "      <td>NaN</td>\n",
       "      <td>S</td>\n",
       "    </tr>\n",
       "    <tr>\n",
       "      <th>2</th>\n",
       "      <td>894</td>\n",
       "      <td>2</td>\n",
       "      <td>Myles, Mr. Thomas Francis</td>\n",
       "      <td>male</td>\n",
       "      <td>62.0</td>\n",
       "      <td>0</td>\n",
       "      <td>0</td>\n",
       "      <td>240276</td>\n",
       "      <td>9.6875</td>\n",
       "      <td>NaN</td>\n",
       "      <td>Q</td>\n",
       "    </tr>\n",
       "    <tr>\n",
       "      <th>3</th>\n",
       "      <td>895</td>\n",
       "      <td>3</td>\n",
       "      <td>Wirz, Mr. Albert</td>\n",
       "      <td>male</td>\n",
       "      <td>27.0</td>\n",
       "      <td>0</td>\n",
       "      <td>0</td>\n",
       "      <td>315154</td>\n",
       "      <td>8.6625</td>\n",
       "      <td>NaN</td>\n",
       "      <td>S</td>\n",
       "    </tr>\n",
       "    <tr>\n",
       "      <th>4</th>\n",
       "      <td>896</td>\n",
       "      <td>3</td>\n",
       "      <td>Hirvonen, Mrs. Alexander (Helga E Lindqvist)</td>\n",
       "      <td>female</td>\n",
       "      <td>22.0</td>\n",
       "      <td>1</td>\n",
       "      <td>1</td>\n",
       "      <td>3101298</td>\n",
       "      <td>12.2875</td>\n",
       "      <td>NaN</td>\n",
       "      <td>S</td>\n",
       "    </tr>\n",
       "  </tbody>\n",
       "</table>\n",
       "</div>"
      ],
      "text/plain": [
       "   PassengerId  Pclass                                          Name     Sex  \\\n",
       "0          892       3                              Kelly, Mr. James    male   \n",
       "1          893       3              Wilkes, Mrs. James (Ellen Needs)  female   \n",
       "2          894       2                     Myles, Mr. Thomas Francis    male   \n",
       "3          895       3                              Wirz, Mr. Albert    male   \n",
       "4          896       3  Hirvonen, Mrs. Alexander (Helga E Lindqvist)  female   \n",
       "\n",
       "    Age  SibSp  Parch   Ticket     Fare Cabin Embarked  \n",
       "0  34.5      0      0   330911   7.8292   NaN        Q  \n",
       "1  47.0      1      0   363272   7.0000   NaN        S  \n",
       "2  62.0      0      0   240276   9.6875   NaN        Q  \n",
       "3  27.0      0      0   315154   8.6625   NaN        S  \n",
       "4  22.0      1      1  3101298  12.2875   NaN        S  "
      ]
     },
     "execution_count": 73,
     "metadata": {},
     "output_type": "execute_result"
    }
   ],
   "source": [
    "titanic.head()"
   ]
  },
  {
   "cell_type": "code",
   "execution_count": 74,
   "id": "4f4503fc-271d-4503-85a0-45dfbade93ee",
   "metadata": {
    "tags": []
   },
   "outputs": [
    {
     "name": "stderr",
     "output_type": "stream",
     "text": [
      "/home/nvaulin/mambaforge/envs/python_bi/lib/python3.11/site-packages/rpy2/robjects/pandas2ri.py:65: UserWarning: Error while trying to convert the column \"Cabin\". Fall back to string conversion. The error is: Series can only be of one type, or None (and here we have <class 'float'> and <class 'str'>). If happening with a pandas DataFrame the method infer_objects() will normalize data types before conversion.\n",
      "  warnings.warn('Error while trying to convert '\n"
     ]
    }
   ],
   "source": [
    "%R -i titanic"
   ]
  },
  {
   "cell_type": "code",
   "execution_count": 75,
   "id": "b9b0694c-b8a8-465d-9723-6c01ca91b6a5",
   "metadata": {
    "tags": []
   },
   "outputs": [
    {
     "name": "stdout",
     "output_type": "stream",
     "text": [
      "  PassengerId Pclass                                         Name    Sex  Age\n",
      "0         892      3                             Kelly, Mr. James   male 34.5\n",
      "1         893      3             Wilkes, Mrs. James (Ellen Needs) female 47.0\n",
      "2         894      2                    Myles, Mr. Thomas Francis   male 62.0\n",
      "3         895      3                             Wirz, Mr. Albert   male 27.0\n",
      "4         896      3 Hirvonen, Mrs. Alexander (Helga E Lindqvist) female 22.0\n",
      "5         897      3                   Svensson, Mr. Johan Cervin   male 14.0\n",
      "  SibSp Parch  Ticket    Fare Cabin Embarked\n",
      "0     0     0  330911  7.8292  <NA>        Q\n",
      "1     1     0  363272  7.0000  <NA>        S\n",
      "2     0     0  240276  9.6875  <NA>        Q\n",
      "3     0     0  315154  8.6625  <NA>        S\n",
      "4     1     1 3101298 12.2875  <NA>        S\n",
      "5     0     0    7538  9.2250  <NA>        S\n",
      "[1] \"\"\n",
      "[1] 3 3 2 3 3 3\n"
     ]
    }
   ],
   "source": [
    "%%R\n",
    "\n",
    "print(head(titanic))\n",
    "print('')\n",
    "print(head(titanic$Pclass))"
   ]
  },
  {
   "cell_type": "code",
   "execution_count": 76,
   "id": "1c48a443-9410-4d89-b848-037989a21f76",
   "metadata": {
    "tags": []
   },
   "outputs": [
    {
     "data": {
      "text/plain": [
       "In addition: Warning messages:\n",
       "1: Removed 1 rows containing non-finite values (`stat_ydensity()`). \n",
       "2: Removed 1 rows containing non-finite values (`stat_boxplot()`). \n",
       "3: `position_dodge()` requires non-overlapping x intervals \n",
       "4: `position_dodge()` requires non-overlapping x intervals \n",
       "5: Removed 1 rows containing missing values (`geom_point()`). \n"
      ]
     },
     "metadata": {},
     "output_type": "display_data"
    },
    {
     "data": {
      "image/png": "[encoded data removed]",
      "text/plain": [
       "<IPython.core.display.Image object>"
      ]
     },
     "metadata": {},
     "output_type": "display_data"
    }
   ],
   "source": [
    "%%R\n",
    "#install.packages(\"tidyverse\")\n",
    "library(tidyverse)\n",
    "\n",
    "titanic$Pclass = as.factor(titanic$Pclass)\n",
    "g = ggplot(titanic, aes(y=Fare, x=Pclass)) + geom_violin(width=2, aes(fill=Pclass)) + \n",
    "                                          geom_boxplot(width=0.05)  + \n",
    "                                          geom_jitter(alpha=0.004) + \n",
    "                                          facet_grid( ~ Sex) + theme_bw() + \n",
    "                                          ggtitle(\"Ticket fare distributions\") + \n",
    "                                          ylab('Ticket fare') + \n",
    "                                          xlab('Passenger class')\n",
    "plot(g)            "
   ]
  }
 ],
 "metadata": {
  "kernelspec": {
   "display_name": "python_bi",
   "language": "python",
   "name": "python_bi"
  },
  "language_info": {
   "codemirror_mode": {
    "name": "ipython",
    "version": 3
   },
   "file_extension": ".py",
   "mimetype": "text/x-python",
   "name": "python",
   "nbconvert_exporter": "python",
   "pygments_lexer": "ipython3",
   "version": "3.11.6"
  }
 },
 "nbformat": 4,
 "nbformat_minor": 5
}
